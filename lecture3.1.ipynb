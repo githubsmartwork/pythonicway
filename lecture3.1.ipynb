{
 "cells": [
  {
   "cell_type": "markdown",
   "id": "3da82548-b46c-4c7b-b93e-1d9f0e0f5012",
   "metadata": {},
   "source": [
    "<b>File handling</b>"
   ]
  },
  {
   "cell_type": "code",
   "execution_count": 30,
   "id": "bf3fc792-83b3-4577-94bb-7259fc766f4a",
   "metadata": {},
   "outputs": [],
   "source": [
    "f = open(\"myfirst.ipynb\")"
   ]
  },
  {
   "cell_type": "code",
   "execution_count": 20,
   "id": "6e76d999-202b-467a-b582-55591ae9cc2f",
   "metadata": {},
   "outputs": [
    {
     "data": {
      "text/plain": [
       "_io.TextIOWrapper"
      ]
     },
     "execution_count": 20,
     "metadata": {},
     "output_type": "execute_result"
    }
   ],
   "source": [
    "type(f)"
   ]
  },
  {
   "cell_type": "code",
   "execution_count": 31,
   "id": "7075d3fd-b452-4752-ada8-b336fa35142c",
   "metadata": {},
   "outputs": [
    {
     "name": "stdout",
     "output_type": "stream",
     "text": [
      "<class 'str'>\n",
      "===> {\n",
      " \"cells\": [\n",
      "  {\n",
      "   \"cell_type\": \"code\",\n",
      "   \"execution_count\": 1,\n",
      "   \"id\": \"cf2aa031-0029-49ba-bff4-2f988c6d6941\",\n",
      "   \"metadata\": {},\n",
      "   \"outputs\": [\n",
      "    {\n",
      "     \"data\": {\n",
      "      \"text/plain\": [\n",
      "       \"'heloo'\"\n",
      "      ]\n",
      "     },\n",
      "     \"execution_count\": 1,\n",
      "     \"metadata\": {},\n",
      "     \"output_type\": \"execute_result\"\n",
      "    }\n",
      "   ],\n",
      "   \"source\": [\n",
      "    \"'heloo'\"\n",
      "   ]\n",
      "  },\n",
      "  {\n",
      "   \"cell_type\": \"code\",\n",
      "   \"execution_count\": null,\n",
      "   \"id\": \"075ae394-3b48-4adb-b9df-7c733b26f4b8\",\n",
      "   \"metadata\": {},\n",
      "   \"outputs\": [],\n",
      "   \"source\": []\n",
      "  }\n",
      " ],\n",
      " \"metadata\": {\n",
      "  \"kernelspec\": {\n",
      "   \"display_name\": \"Python 3 (ipykernel)\",\n",
      "   \"language\": \"python\",\n",
      "   \"name\": \"python3\"\n",
      "  },\n",
      "  \"language_info\": {\n",
      "   \"codemirror_mode\": {\n",
      "    \"name\": \"ipython\",\n",
      "    \"version\": 3\n",
      "   },\n",
      "   \"file_extension\": \".py\",\n",
      "   \"mimetype\": \"text/x-python\",\n",
      "   \"name\": \"python\",\n",
      "   \"nbconvert_exporter\": \"python\",\n",
      "   \"pygments_lexer\": \"ipython3\",\n",
      "   \"version\": \"3.9.7\"\n",
      "  }\n",
      " },\n",
      " \"nbformat\": 4,\n",
      " \"nbformat_minor\": 5\n",
      "}\n",
      "\n"
     ]
    }
   ],
   "source": [
    "content = f.read()\n",
    "print(type(content))\n",
    "print(\"===>\",content)\n"
   ]
  },
  {
   "cell_type": "code",
   "execution_count": 25,
   "id": "227e6613-8e44-4e15-acb8-95b80ea1ac2a",
   "metadata": {},
   "outputs": [],
   "source": []
  },
  {
   "cell_type": "code",
   "execution_count": 36,
   "id": "90e77d1e-3259-4ad5-970a-7dc887c4990f",
   "metadata": {},
   "outputs": [
    {
     "name": "stdout",
     "output_type": "stream",
     "text": [
      "['{']\n",
      "['\"cells\":', '[']\n",
      "['{']\n",
      "['\"cell_type\":', '\"code\",']\n",
      "['\"execution_count\":', '1,']\n",
      "['\"id\":', '\"cf2aa031-0029-49ba-bff4-2f988c6d6941\",']\n",
      "['\"metadata\":', '{},']\n",
      "['\"outputs\":', '[']\n",
      "['{']\n",
      "['\"data\":', '{']\n",
      "['\"text/plain\":', '[']\n",
      "['\"\\'heloo\\'\"']\n",
      "[']']\n",
      "['},']\n",
      "['\"execution_count\":', '1,']\n",
      "['\"metadata\":', '{},']\n",
      "['\"output_type\":', '\"execute_result\"']\n",
      "['}']\n",
      "['],']\n",
      "['\"source\":', '[']\n",
      "['\"\\'heloo\\'\"']\n",
      "[']']\n",
      "['},']\n",
      "['{']\n",
      "['\"cell_type\":', '\"code\",']\n",
      "['\"execution_count\":', 'null,']\n",
      "['\"id\":', '\"075ae394-3b48-4adb-b9df-7c733b26f4b8\",']\n",
      "['\"metadata\":', '{},']\n",
      "['\"outputs\":', '[],']\n",
      "['\"source\":', '[]']\n",
      "['}']\n",
      "['],']\n",
      "['\"metadata\":', '{']\n",
      "['\"kernelspec\":', '{']\n",
      "['\"display_name\":', '\"Python', '3', '(ipykernel)\",']\n",
      "['\"language\":', '\"python\",']\n",
      "['\"name\":', '\"python3\"']\n",
      "['},']\n",
      "['\"language_info\":', '{']\n",
      "['\"codemirror_mode\":', '{']\n",
      "['\"name\":', '\"ipython\",']\n",
      "['\"version\":', '3']\n",
      "['},']\n",
      "['\"file_extension\":', '\".py\",']\n",
      "['\"mimetype\":', '\"text/x-python\",']\n",
      "['\"name\":', '\"python\",']\n",
      "['\"nbconvert_exporter\":', '\"python\",']\n",
      "['\"pygments_lexer\":', '\"ipython3\",']\n",
      "['\"version\":', '\"3.9.7\"']\n",
      "['}']\n",
      "['},']\n",
      "['\"nbformat\":', '4,']\n",
      "['\"nbformat_minor\":', '5']\n",
      "['}']\n",
      "[]\n"
     ]
    }
   ],
   "source": [
    "strf= content.split(\"\\n\")\n",
    "for i in range(0, len(strf)):\n",
    "    li = strf[i].split()\n",
    "    print(li)"
   ]
  },
  {
   "cell_type": "code",
   "execution_count": 45,
   "id": "251bc49d-c52f-4ea2-9cf8-ab76a4dda17f",
   "metadata": {},
   "outputs": [],
   "source": [
    "foutt = open(\"mark.txt\", \"w\")\n",
    "print(\"Hi heloo\", file=foutt)"
   ]
  },
  {
   "cell_type": "code",
   "execution_count": 51,
   "id": "61af8621-86e4-450d-a866-6e3319a13195",
   "metadata": {},
   "outputs": [
    {
     "name": "stdout",
     "output_type": "stream",
     "text": [
      "<class '_io.TextIOWrapper'>\n",
      "I am Sathesh\n"
     ]
    }
   ],
   "source": [
    "str = open(\"mark.txt\")\n",
    "print(type(str))\n",
    "dtata= str.read()\n",
    "print(dtata)"
   ]
  },
  {
   "cell_type": "code",
   "execution_count": 50,
   "id": "2ac3c428-ee7a-43da-a85e-fffd55132f66",
   "metadata": {},
   "outputs": [],
   "source": [
    "foutt = open(\"mark.txt\", \"w\")\n",
    "foutt.write(\"I am Sathesh\")\n",
    "foutt.close()"
   ]
  },
  {
   "cell_type": "code",
   "execution_count": 56,
   "id": "230c71e3-9871-4b60-a803-54d53d1e1bba",
   "metadata": {},
   "outputs": [],
   "source": [
    "import os\n",
    "os.remove(\"mark.txt\")\n",
    "\n"
   ]
  },
  {
   "cell_type": "code",
   "execution_count": null,
   "id": "100993c8-85f0-4dfb-b77f-9b023c0fcab3",
   "metadata": {},
   "outputs": [],
   "source": []
  }
 ],
 "metadata": {
  "kernelspec": {
   "display_name": "Python 3 (ipykernel)",
   "language": "python",
   "name": "python3"
  },
  "language_info": {
   "codemirror_mode": {
    "name": "ipython",
    "version": 3
   },
   "file_extension": ".py",
   "mimetype": "text/x-python",
   "name": "python",
   "nbconvert_exporter": "python",
   "pygments_lexer": "ipython3",
   "version": "3.9.7"
  }
 },
 "nbformat": 4,
 "nbformat_minor": 5
}
