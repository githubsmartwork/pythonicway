{
 "cells": [
  {
   "cell_type": "markdown",
   "id": "f2f303b5-24a5-4a0f-9977-3af21e0776bd",
   "metadata": {},
   "source": [
    "<B>Itrative Executions</B>"
   ]
  },
  {
   "cell_type": "code",
   "execution_count": 2,
   "id": "fb18cacb-f113-452e-a6a7-64fbfb3bbfb7",
   "metadata": {},
   "outputs": [
    {
     "name": "stdout",
     "output_type": "stream",
     "text": [
      "0\n",
      "1\n",
      "2\n",
      "3\n",
      "4\n",
      "5\n",
      "6\n",
      "7\n",
      "8\n",
      "9\n",
      "I am out!\n"
     ]
    }
   ],
   "source": [
    "i=0 # iterative variable\n",
    "while i<10:\n",
    "    print(i)\n",
    "    i+=1\n",
    "    \n",
    "print(\"I am out!\")\n",
    "    \n"
   ]
  },
  {
   "cell_type": "code",
   "execution_count": 5,
   "id": "ec3e5b3d-ce75-43a9-8a9b-b612e7f76748",
   "metadata": {},
   "outputs": [
    {
     "name": "stdout",
     "output_type": "stream",
     "text": [
      "totalis  224\n",
      "avg 37.333333333333336\n"
     ]
    }
   ],
   "source": [
    "mark_list = [10,34,6,7,89,78]\n",
    "total=0\n",
    "student_count=len(mark_list)\n",
    "index=0\n",
    "while index<student_count:\n",
    "    total+=mark_list[index]\n",
    "    index+=1\n",
    "print(\"total is \",total)\n",
    "avg = total / student_count\n",
    "print(\"avg\", avg)"
   ]
  },
  {
   "cell_type": "code",
   "execution_count": 9,
   "id": "8a859848-4db2-4d93-af53-103956dd413d",
   "metadata": {},
   "outputs": [
    {
     "name": "stdout",
     "output_type": "stream",
     "text": [
      "i 1\n",
      "i 2\n",
      "i 3\n",
      "i 4\n",
      " I am out\n"
     ]
    }
   ],
   "source": [
    "i =0\n",
    "while i<10:\n",
    "    i+=1\n",
    "    if i==5:\n",
    "        break\n",
    "    print(\"i\", i)\n",
    "print(\"I am out\")"
   ]
  },
  {
   "cell_type": "code",
   "execution_count": 8,
   "id": "ca069f97-f9b9-40fb-9733-984d3469087c",
   "metadata": {},
   "outputs": [
    {
     "name": "stdout",
     "output_type": "stream",
     "text": [
      "i 1\n",
      "i 2\n",
      "i 3\n",
      "i 4\n",
      "i 6\n",
      "i 7\n",
      "i 8\n",
      "i 9\n",
      "i 10\n",
      " I am out\n"
     ]
    }
   ],
   "source": [
    "i =0\n",
    "while i<10:\n",
    "    i+=1\n",
    "    if i==5:\n",
    "        continue\n",
    "    print(\"i\", i)\n",
    "print(\" I am out\")"
   ]
  },
  {
   "cell_type": "code",
   "execution_count": 20,
   "id": "3a49c3d8-e4e6-4067-b780-5c0cd2ab42b6",
   "metadata": {},
   "outputs": [
    {
     "name": "stdin",
     "output_type": "stream",
     "text": [
      "enter the number 88\n"
     ]
    },
    {
     "name": "stdout",
     "output_type": "stream",
     "text": [
      "[2.4, 56, 77, 88]\n",
      "got u man\n",
      "I a out\n"
     ]
    }
   ],
   "source": [
    "#Linear search\n",
    "list111 =[2.4,56,77,88]\n",
    "key =eval(input(\"enter the number\"))\n",
    "print(list111)\n",
    "index=0\n",
    "while index < len(list111):\n",
    "    if key == list111[index]:\n",
    "        print(\"got u man\")\n",
    "        break\n",
    "    index=index+1\n",
    "    \n",
    "print(\"I a out\")"
   ]
  },
  {
   "cell_type": "code",
   "execution_count": 22,
   "id": "6da5efab-aa0e-4f07-a4f6-3429ab394dfe",
   "metadata": {},
   "outputs": [
    {
     "name": "stdout",
     "output_type": "stream",
     "text": [
      "10\n",
      "9\n",
      "8\n",
      "7\n",
      "6\n",
      "5\n",
      "4\n",
      "3\n",
      "2\n"
     ]
    }
   ],
   "source": [
    "for i in range(10, 1, -1):\n",
    "    print(i)"
   ]
  },
  {
   "cell_type": "code",
   "execution_count": 24,
   "id": "22843090-9de1-4ef1-95ee-9d6e5b2259ab",
   "metadata": {},
   "outputs": [
    {
     "name": "stdout",
     "output_type": "stream",
     "text": [
      "s\n",
      "t\n",
      "r\n",
      "i\n",
      "n\n",
      "g\n"
     ]
    }
   ],
   "source": [
    "for ch in \"string\":\n",
    "    print(ch)"
   ]
  },
  {
   "cell_type": "code",
   "execution_count": 27,
   "id": "da94ada6-273b-4df0-8a14-abe6835fff74",
   "metadata": {},
   "outputs": [
    {
     "name": "stdout",
     "output_type": "stream",
     "text": [
      "a\n",
      "b\n",
      "Key:  a ; Value:  z\n",
      "Key:  b ; Value:  y\n"
     ]
    }
   ],
   "source": [
    "my_key ={\"a\":\"z\", \"b\":\"y\"}\n",
    "for key in my_key.keys():\n",
    "    print(key)\n",
    "for key,value in my_key.items():\n",
    " print('Key: ' , key , '; Value: ', value)"
   ]
  },
  {
   "cell_type": "markdown",
   "id": "dc6d7bc6-e7ed-4918-9844-bade8c6c2c8e",
   "metadata": {},
   "source": [
    "<B>Functions</B>"
   ]
  },
  {
   "cell_type": "code",
   "execution_count": 26,
   "id": "b8936e8a-8bb0-4cf2-b273-2ec964ae1377",
   "metadata": {},
   "outputs": [
    {
     "data": {
      "text/plain": [
       "3.141592653589793"
      ]
     },
     "execution_count": 26,
     "metadata": {},
     "output_type": "execute_result"
    }
   ],
   "source": [
    "import math\n",
    "math.pi"
   ]
  },
  {
   "cell_type": "code",
   "execution_count": 32,
   "id": "281a2de8-a963-4941-b30c-9ae8e82f9ebc",
   "metadata": {},
   "outputs": [
    {
     "name": "stdout",
     "output_type": "stream",
     "text": [
      "*****************#"
     ]
    }
   ],
   "source": [
    "def print_notice():\n",
    "    print(\"*****************\", end='#')\n",
    "print_notice()\n",
    "    \n",
    "    "
   ]
  },
  {
   "cell_type": "code",
   "execution_count": 33,
   "id": "ef8b922a-0baa-47b5-a0e3-eed9693ae17b",
   "metadata": {},
   "outputs": [
    {
     "name": "stdout",
     "output_type": "stream",
     "text": [
      "*****************#"
     ]
    }
   ],
   "source": [
    "\n",
    "print_notice()"
   ]
  },
  {
   "cell_type": "code",
   "execution_count": 48,
   "id": "d435ca2c-3fc9-4c4f-862d-1910d01304c6",
   "metadata": {},
   "outputs": [],
   "source": [
    "def cout_avg(n):\n",
    "    try:\n",
    "        count=len(n)\n",
    "        total =0\n",
    "        for i in n:\n",
    "            total+=i\n",
    "        avg= total / count \n",
    "        print(\"avg\", avg)\n",
    "        return avg\n",
    "    except Exception as e:\n",
    "        print(\"something wrong\", e)\n",
    " "
   ]
  },
  {
   "cell_type": "code",
   "execution_count": 49,
   "id": "fc5079e0-afc0-449a-aff3-def3413bee52",
   "metadata": {},
   "outputs": [
    {
     "name": "stdout",
     "output_type": "stream",
     "text": [
      "avg 4.5\n"
     ]
    },
    {
     "data": {
      "text/plain": [
       "4.5"
      ]
     },
     "execution_count": 49,
     "metadata": {},
     "output_type": "execute_result"
    }
   ],
   "source": [
    "cout_avg([1,4,6,7])"
   ]
  },
  {
   "cell_type": "code",
   "execution_count": 50,
   "id": "5c862b47-de46-4408-9fbe-6b0f3360ed9c",
   "metadata": {},
   "outputs": [
    {
     "name": "stdout",
     "output_type": "stream",
     "text": [
      "something wrong object of type 'int' has no len()\n"
     ]
    }
   ],
   "source": [
    "cout_avg(2)"
   ]
  },
  {
   "cell_type": "code",
   "execution_count": 51,
   "id": "68a13d95-7e5c-46da-9f4a-60067ecf79dd",
   "metadata": {},
   "outputs": [
    {
     "name": "stdout",
     "output_type": "stream",
     "text": [
      "something wrong unsupported operand type(s) for +=: 'int' and 'str'\n"
     ]
    }
   ],
   "source": [
    "cout_avg(\"Satheesh\")"
   ]
  },
  {
   "cell_type": "code",
   "execution_count": null,
   "id": "4d83c838-19a8-44d6-b543-6a6356e42de2",
   "metadata": {},
   "outputs": [],
   "source": []
  }
 ],
 "metadata": {
  "kernelspec": {
   "display_name": "Python 3 (ipykernel)",
   "language": "python",
   "name": "python3"
  },
  "language_info": {
   "codemirror_mode": {
    "name": "ipython",
    "version": 3
   },
   "file_extension": ".py",
   "mimetype": "text/x-python",
   "name": "python",
   "nbconvert_exporter": "python",
   "pygments_lexer": "ipython3",
   "version": "3.9.7"
  }
 },
 "nbformat": 4,
 "nbformat_minor": 5
}
