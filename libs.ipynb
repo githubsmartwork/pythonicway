{
 "cells": [
  {
   "cell_type": "markdown",
   "id": "5d1fa73b-d262-46e4-811c-92640070faf9",
   "metadata": {},
   "source": [
    "<b>Arrays in python</b>"
   ]
  },
  {
   "cell_type": "code",
   "execution_count": 4,
   "id": "95da74cc-f825-4f5c-854a-c2607da8be27",
   "metadata": {},
   "outputs": [
    {
     "data": {
      "text/plain": [
       "array('i', [1, 2, 3, 4, 4])"
      ]
     },
     "execution_count": 4,
     "metadata": {},
     "output_type": "execute_result"
    }
   ],
   "source": [
    "import array\n",
    "my_a=array.array('i',[1,2,3,4,4])\n",
    "my_a"
   ]
  },
  {
   "cell_type": "code",
   "execution_count": 6,
   "id": "b7a138be-4295-46f7-b551-6acd1cfa1dae",
   "metadata": {},
   "outputs": [
    {
     "data": {
      "text/plain": [
       "array('f', [1.0, 2.0, 3.0, 4.0, 4.0])"
      ]
     },
     "execution_count": 6,
     "metadata": {},
     "output_type": "execute_result"
    }
   ],
   "source": [
    "my_f=array.array('f',[1,2,3,4,4])\n",
    "my_f"
   ]
  },
  {
   "cell_type": "code",
   "execution_count": 8,
   "id": "bc2feed9-0992-4fb0-b715-9012dd066292",
   "metadata": {},
   "outputs": [
    {
     "data": {
      "text/plain": [
       "array([1, 2, 3, 4, 5])"
      ]
     },
     "execution_count": 8,
     "metadata": {},
     "output_type": "execute_result"
    }
   ],
   "source": [
    "import numpy as np\n",
    "\n",
    "arr =np.array([1,2,3,4,5])\n",
    "arr\n"
   ]
  },
  {
   "cell_type": "code",
   "execution_count": 9,
   "id": "e6fedcd4-bda3-46f3-b6ce-d7b06b7a6e32",
   "metadata": {},
   "outputs": [
    {
     "data": {
      "text/plain": [
       "numpy.ndarray"
      ]
     },
     "execution_count": 9,
     "metadata": {},
     "output_type": "execute_result"
    }
   ],
   "source": [
    "type(arr)"
   ]
  },
  {
   "cell_type": "code",
   "execution_count": 10,
   "id": "f1530cb1-6308-48d5-87c2-cdd02918c927",
   "metadata": {},
   "outputs": [],
   "source": [
    "zero_arr= np.array(50)"
   ]
  },
  {
   "cell_type": "code",
   "execution_count": 11,
   "id": "4cd1bc37-8e74-44df-82dd-e32e61a0b970",
   "metadata": {},
   "outputs": [
    {
     "data": {
      "text/plain": [
       "array(50)"
      ]
     },
     "execution_count": 11,
     "metadata": {},
     "output_type": "execute_result"
    }
   ],
   "source": [
    "zero_arr\n"
   ]
  },
  {
   "cell_type": "code",
   "execution_count": 13,
   "id": "86970f73-6817-4951-a125-d067a88fd9d2",
   "metadata": {},
   "outputs": [
    {
     "data": {
      "text/plain": [
       "array([[ 3,  4,  5,  6],\n",
       "       [ 5,  6,  6, 77]])"
      ]
     },
     "execution_count": 13,
     "metadata": {},
     "output_type": "execute_result"
    }
   ],
   "source": [
    "twod_arr= np.array([[3,4,5,6],[5,6,6,77]])\n",
    "twod_arr\n"
   ]
  },
  {
   "cell_type": "code",
   "execution_count": 18,
   "id": "9aff55a2-75e5-4443-8e82-a489bf3d8101",
   "metadata": {},
   "outputs": [],
   "source": [
    "\n",
    "int_list= [3,4,5,6, 3.5, \"hi\"]\n",
    "my_int_array = np.array(int_list)"
   ]
  },
  {
   "cell_type": "code",
   "execution_count": 19,
   "id": "8daaff18-f323-492b-afb3-6e3cfa61e004",
   "metadata": {},
   "outputs": [
    {
     "data": {
      "text/plain": [
       "array(['3', '4', '5', '6', '3.5', 'hi'], dtype='<U32')"
      ]
     },
     "execution_count": 19,
     "metadata": {},
     "output_type": "execute_result"
    }
   ],
   "source": [
    "my_int_array\n"
   ]
  },
  {
   "cell_type": "code",
   "execution_count": 21,
   "id": "223c67d5-7930-42d7-b0a0-8cf7f2187e39",
   "metadata": {},
   "outputs": [
    {
     "data": {
      "text/plain": [
       "dtype('<U32')"
      ]
     },
     "execution_count": 21,
     "metadata": {},
     "output_type": "execute_result"
    }
   ],
   "source": [
    "my_int_array.dtype"
   ]
  },
  {
   "cell_type": "code",
   "execution_count": 22,
   "id": "3ff691cf-0ac2-4ebc-9944-988b7c0cabfb",
   "metadata": {},
   "outputs": [
    {
     "data": {
      "text/plain": [
       "1"
      ]
     },
     "execution_count": 22,
     "metadata": {},
     "output_type": "execute_result"
    }
   ],
   "source": [
    "my_int_array.ndim"
   ]
  },
  {
   "cell_type": "code",
   "execution_count": 23,
   "id": "f2512962-7e08-45ec-8220-44bcaf196e40",
   "metadata": {},
   "outputs": [
    {
     "data": {
      "text/plain": [
       "2"
      ]
     },
     "execution_count": 23,
     "metadata": {},
     "output_type": "execute_result"
    }
   ],
   "source": [
    "twod_arr.ndim\n"
   ]
  },
  {
   "cell_type": "code",
   "execution_count": 24,
   "id": "08e0f85f-b18d-4efe-b5d5-1d8187ba15d0",
   "metadata": {},
   "outputs": [
    {
     "data": {
      "text/plain": [
       "[[3, 4, 5, 6], [5, 6, 6, 77]]"
      ]
     },
     "execution_count": 24,
     "metadata": {},
     "output_type": "execute_result"
    }
   ],
   "source": [
    "twod_arr.tolist()"
   ]
  },
  {
   "cell_type": "code",
   "execution_count": 25,
   "id": "7e6dc773-6949-4259-8c97-b43e91369219",
   "metadata": {},
   "outputs": [
    {
     "data": {
      "text/plain": [
       "['3', '4', '5', '6', '3.5', 'hi']"
      ]
     },
     "execution_count": 25,
     "metadata": {},
     "output_type": "execute_result"
    }
   ],
   "source": [
    "my_int_array.tolist()"
   ]
  },
  {
   "cell_type": "code",
   "execution_count": 26,
   "id": "50f3b919-6af4-4742-9f45-2c6bc410eec4",
   "metadata": {},
   "outputs": [
    {
     "data": {
      "text/plain": [
       "6"
      ]
     },
     "execution_count": 26,
     "metadata": {},
     "output_type": "execute_result"
    }
   ],
   "source": [
    "len(my_int_array)"
   ]
  },
  {
   "cell_type": "code",
   "execution_count": 27,
   "id": "d2b2959c-336a-4ee6-ab3c-6c685600a914",
   "metadata": {},
   "outputs": [
    {
     "data": {
      "text/plain": [
       "6"
      ]
     },
     "execution_count": 27,
     "metadata": {},
     "output_type": "execute_result"
    }
   ],
   "source": [
    "my_int_array.size"
   ]
  },
  {
   "cell_type": "code",
   "execution_count": 28,
   "id": "cdceb8c0-81f1-4776-8fa9-f74236f9ddcb",
   "metadata": {},
   "outputs": [
    {
     "data": {
      "text/plain": [
       "(6,)"
      ]
     },
     "execution_count": 28,
     "metadata": {},
     "output_type": "execute_result"
    }
   ],
   "source": [
    "my_int_array.shape\n"
   ]
  },
  {
   "cell_type": "code",
   "execution_count": 29,
   "id": "3ca40fd2-b288-461b-8d14-9c7f6ec60b77",
   "metadata": {},
   "outputs": [
    {
     "data": {
      "text/plain": [
       "(2, 4)"
      ]
     },
     "execution_count": 29,
     "metadata": {},
     "output_type": "execute_result"
    }
   ],
   "source": [
    "twod_arr.shape"
   ]
  },
  {
   "cell_type": "code",
   "execution_count": 32,
   "id": "b13ce487-141d-4d4d-b545-66f14752996c",
   "metadata": {},
   "outputs": [
    {
     "data": {
      "text/plain": [
       "array([0., 0., 0., 0., 0., 0.])"
      ]
     },
     "execution_count": 32,
     "metadata": {},
     "output_type": "execute_result"
    }
   ],
   "source": [
    "zeros = np.zeros(6,)\n",
    "zeros"
   ]
  },
  {
   "cell_type": "code",
   "execution_count": 34,
   "id": "3836a866-d6ad-446f-85c8-efb213f4a77c",
   "metadata": {},
   "outputs": [
    {
     "data": {
      "text/plain": [
       "array([0, 0, 0, 0, 0, 0])"
      ]
     },
     "execution_count": 34,
     "metadata": {},
     "output_type": "execute_result"
    }
   ],
   "source": [
    "zeros_int = np.zeros(6, dtype=int)\n",
    "zeros_int"
   ]
  },
  {
   "cell_type": "code",
   "execution_count": 35,
   "id": "4ec49c0e-19f4-4c55-aa52-60d01baf576c",
   "metadata": {},
   "outputs": [],
   "source": [
    "one_arr= np.ones(9)"
   ]
  },
  {
   "cell_type": "code",
   "execution_count": 36,
   "id": "12bd97e3-e181-4ad7-aadc-f5d3ca2e34b9",
   "metadata": {},
   "outputs": [
    {
     "data": {
      "text/plain": [
       "array([1., 1., 1., 1., 1., 1., 1., 1., 1.])"
      ]
     },
     "execution_count": 36,
     "metadata": {},
     "output_type": "execute_result"
    }
   ],
   "source": [
    "one_arr"
   ]
  },
  {
   "cell_type": "code",
   "execution_count": 37,
   "id": "c071daf2-1b98-4845-9ecb-8fc879570a7e",
   "metadata": {},
   "outputs": [
    {
     "data": {
      "text/plain": [
       "array([0.00000000e+000, 1.00937611e-320, 0.00000000e+000, 0.00000000e+000,\n",
       "       5.83198137e+252, 2.00620165e-052, 7.48419171e-067, 7.42381949e-091,\n",
       "       6.24192196e-042, 5.21506443e-310])"
      ]
     },
     "execution_count": 37,
     "metadata": {},
     "output_type": "execute_result"
    }
   ],
   "source": [
    "np.empty(10)"
   ]
  },
  {
   "cell_type": "code",
   "execution_count": 39,
   "id": "3e573ed7-e493-4371-80b2-442c9d4386a8",
   "metadata": {},
   "outputs": [
    {
     "data": {
      "text/plain": [
       "array([1, 2, 3, 4, 5, 6, 7, 8, 9])"
      ]
     },
     "execution_count": 39,
     "metadata": {},
     "output_type": "execute_result"
    }
   ],
   "source": [
    "arrange_arr= np.arange(1,10)\n",
    "arrange_arr"
   ]
  },
  {
   "cell_type": "code",
   "execution_count": 41,
   "id": "25034fd7-f8e9-41fb-aa2b-afe159ebb2d6",
   "metadata": {},
   "outputs": [
    {
     "data": {
      "text/plain": [
       "array([ 5,  7,  9, 11, 13, 15, 17, 19, 21, 23, 25, 27, 29, 31, 33, 35, 37,\n",
       "       39, 41, 43, 45, 47, 49])"
      ]
     },
     "execution_count": 41,
     "metadata": {},
     "output_type": "execute_result"
    }
   ],
   "source": [
    "np.arange(5,50,2)"
   ]
  },
  {
   "cell_type": "code",
   "execution_count": 45,
   "id": "49d0f714-243a-4754-b045-b04c23d109e4",
   "metadata": {},
   "outputs": [
    {
     "data": {
      "text/plain": [
       "array([1, 2, 3, 4, 5, 6, 7, 8, 9])"
      ]
     },
     "execution_count": 45,
     "metadata": {},
     "output_type": "execute_result"
    }
   ],
   "source": [
    "np.arange(1, 10)"
   ]
  },
  {
   "cell_type": "code",
   "execution_count": 61,
   "id": "877aaaa7-453a-4ce6-b612-729f23bbe018",
   "metadata": {},
   "outputs": [
    {
     "data": {
      "text/plain": [
       "array([list([3, 4, 55]), list([3, 45, 5, 5])], dtype=object)"
      ]
     },
     "execution_count": 61,
     "metadata": {},
     "output_type": "execute_result"
    }
   ],
   "source": [
    "#2D arrays\n",
    "\n",
    "l1= [3,4,55]\n",
    "l2= [3,45,5,5]\n",
    "two_d_array = np.array([l1,l2], dtype=object)\n",
    "two_d_array"
   ]
  },
  {
   "cell_type": "code",
   "execution_count": 54,
   "id": "d74d6c4d-79ae-4eba-a7d4-f31afdcde1f8",
   "metadata": {},
   "outputs": [
    {
     "data": {
      "text/plain": [
       "1"
      ]
     },
     "execution_count": 54,
     "metadata": {},
     "output_type": "execute_result"
    }
   ],
   "source": [
    "two_d_array.ndim"
   ]
  },
  {
   "cell_type": "code",
   "execution_count": 55,
   "id": "621bb047-1363-4f9a-85da-589e98da66b2",
   "metadata": {},
   "outputs": [
    {
     "data": {
      "text/plain": [
       "dtype('O')"
      ]
     },
     "execution_count": 55,
     "metadata": {},
     "output_type": "execute_result"
    }
   ],
   "source": [
    "two_d_array.dtype"
   ]
  },
  {
   "cell_type": "code",
   "execution_count": 51,
   "id": "a6ae9840-c86b-4dc8-b5d2-340fff79732d",
   "metadata": {},
   "outputs": [
    {
     "data": {
      "text/plain": [
       "2"
      ]
     },
     "execution_count": 51,
     "metadata": {},
     "output_type": "execute_result"
    }
   ],
   "source": [
    "two_d_array.size\n"
   ]
  },
  {
   "cell_type": "code",
   "execution_count": 1,
   "id": "9894da3d-bcea-4d1f-93f6-0ee91d2f8634",
   "metadata": {},
   "outputs": [
    {
     "ename": "NameError",
     "evalue": "name 'two_d_array' is not defined",
     "output_type": "error",
     "traceback": [
      "\u001b[0;31m---------------------------------------------------------------------------\u001b[0m",
      "\u001b[0;31mNameError\u001b[0m                                 Traceback (most recent call last)",
      "\u001b[0;32m/var/folders/c3/bw987b155ynfs7xrh5_pt9t40000gn/T/ipykernel_2745/2422639767.py\u001b[0m in \u001b[0;36m<module>\u001b[0;34m\u001b[0m\n\u001b[0;32m----> 1\u001b[0;31m \u001b[0mtwo_d_array\u001b[0m\u001b[0;34m.\u001b[0m\u001b[0mshape\u001b[0m\u001b[0;34m\u001b[0m\u001b[0;34m\u001b[0m\u001b[0m\n\u001b[0m",
      "\u001b[0;31mNameError\u001b[0m: name 'two_d_array' is not defined"
     ]
    }
   ],
   "source": [
    "two_d_array.shape"
   ]
  },
  {
   "cell_type": "code",
   "execution_count": 56,
   "id": "5b92e7bf-8fac-42ab-8c6f-4275e6e480e0",
   "metadata": {},
   "outputs": [
    {
     "data": {
      "text/plain": [
       "array([1, 2, 3, 4, 5])"
      ]
     },
     "execution_count": 56,
     "metadata": {},
     "output_type": "execute_result"
    }
   ],
   "source": [
    "l1=[1,2,3,4,5]\n",
    "a1= np.array(l1)\n",
    "a1"
   ]
  },
  {
   "cell_type": "code",
   "execution_count": 57,
   "id": "8af1dbbd-4339-4aa5-8e93-401c7cd84480",
   "metadata": {},
   "outputs": [
    {
     "data": {
      "text/plain": [
       "3"
      ]
     },
     "execution_count": 57,
     "metadata": {},
     "output_type": "execute_result"
    }
   ],
   "source": [
    "a1[2]"
   ]
  },
  {
   "cell_type": "code",
   "execution_count": 58,
   "id": "91bb692d-a7ff-414a-a1c9-c5836bbe2d42",
   "metadata": {},
   "outputs": [
    {
     "data": {
      "text/plain": [
       "5"
      ]
     },
     "execution_count": 58,
     "metadata": {},
     "output_type": "execute_result"
    }
   ],
   "source": [
    "a1[-1]"
   ]
  },
  {
   "cell_type": "code",
   "execution_count": 62,
   "id": "dcfbe77b-5a81-40e2-b84d-a47010d2a197",
   "metadata": {},
   "outputs": [],
   "source": [
    "a1[2]=777"
   ]
  },
  {
   "cell_type": "code",
   "execution_count": 63,
   "id": "97adb3bf-2b4b-4f1a-817b-9167251dbb21",
   "metadata": {},
   "outputs": [
    {
     "data": {
      "text/plain": [
       "array([  1,   2, 777,   4,   5])"
      ]
     },
     "execution_count": 63,
     "metadata": {},
     "output_type": "execute_result"
    }
   ],
   "source": [
    "a1"
   ]
  },
  {
   "cell_type": "code",
   "execution_count": 64,
   "id": "1981561e-a65e-47a3-86b6-250a8a8b3c15",
   "metadata": {},
   "outputs": [
    {
     "data": {
      "text/plain": [
       "array([1, 2])"
      ]
     },
     "execution_count": 64,
     "metadata": {},
     "output_type": "execute_result"
    }
   ],
   "source": [
    "a1[:2]"
   ]
  },
  {
   "cell_type": "code",
   "execution_count": 65,
   "id": "2c7d3f63-265d-4341-ae2f-e4a6d2f1313a",
   "metadata": {},
   "outputs": [
    {
     "ename": "NameError",
     "evalue": "name 'a2' is not defined",
     "output_type": "error",
     "traceback": [
      "\u001b[0;31m---------------------------------------------------------------------------\u001b[0m",
      "\u001b[0;31mNameError\u001b[0m                                 Traceback (most recent call last)",
      "\u001b[0;32m/var/folders/c3/bw987b155ynfs7xrh5_pt9t40000gn/T/ipykernel_4444/3219996241.py\u001b[0m in \u001b[0;36m<module>\u001b[0;34m\u001b[0m\n\u001b[0;32m----> 1\u001b[0;31m \u001b[0ma2\u001b[0m\u001b[0;34m\u001b[0m\u001b[0;34m\u001b[0m\u001b[0m\n\u001b[0m",
      "\u001b[0;31mNameError\u001b[0m: name 'a2' is not defined"
     ]
    }
   ],
   "source": [
    "a2"
   ]
  },
  {
   "cell_type": "code",
   "execution_count": 68,
   "id": "381e99f2-f69e-4a81-8628-064d6fdd1066",
   "metadata": {},
   "outputs": [
    {
     "name": "stderr",
     "output_type": "stream",
     "text": [
      "/var/folders/c3/bw987b155ynfs7xrh5_pt9t40000gn/T/ipykernel_4444/1914774881.py:1: VisibleDeprecationWarning: Creating an ndarray from ragged nested sequences (which is a list-or-tuple of lists-or-tuples-or ndarrays with different lengths or shapes) is deprecated. If you meant to do this, you must specify 'dtype=object' when creating the ndarray.\n",
      "  a2 = np.array([[1,2,34,],[3,4,5,6]])\n"
     ]
    },
    {
     "data": {
      "text/plain": [
       "array([list([1, 2, 34]), list([3, 4, 5, 6])], dtype=object)"
      ]
     },
     "execution_count": 68,
     "metadata": {},
     "output_type": "execute_result"
    }
   ],
   "source": [
    "a2 = np.array([[1,2,34,],[3,4,5,6]])\n",
    "a2"
   ]
  },
  {
   "cell_type": "code",
   "execution_count": 69,
   "id": "1e392f4c-6e7c-40fa-9d84-3d3565dee03f",
   "metadata": {},
   "outputs": [],
   "source": [
    "a_sub= a1[:3]"
   ]
  },
  {
   "cell_type": "code",
   "execution_count": 70,
   "id": "8b5af4ca-3d07-47d2-8d2e-366ad704165d",
   "metadata": {},
   "outputs": [
    {
     "data": {
      "text/plain": [
       "array([  1,   2, 777])"
      ]
     },
     "execution_count": 70,
     "metadata": {},
     "output_type": "execute_result"
    }
   ],
   "source": [
    "a_sub\n"
   ]
  },
  {
   "cell_type": "code",
   "execution_count": 71,
   "id": "ace13baf-4fd7-411c-9d5b-aad25125f1f4",
   "metadata": {},
   "outputs": [
    {
     "data": {
      "text/plain": [
       "numpy.ndarray"
      ]
     },
     "execution_count": 71,
     "metadata": {},
     "output_type": "execute_result"
    }
   ],
   "source": [
    "type(a_sub)"
   ]
  },
  {
   "cell_type": "code",
   "execution_count": 72,
   "id": "8d2ab039-f905-4fb5-9c4d-fcb2c5815481",
   "metadata": {},
   "outputs": [
    {
     "data": {
      "text/plain": [
       "1"
      ]
     },
     "execution_count": 72,
     "metadata": {},
     "output_type": "execute_result"
    }
   ],
   "source": [
    "a_sub[0]"
   ]
  },
  {
   "cell_type": "code",
   "execution_count": 73,
   "id": "c043fd83-d484-4001-9ab4-906ccec7fb44",
   "metadata": {},
   "outputs": [],
   "source": [
    "a_sub[0]=100"
   ]
  },
  {
   "cell_type": "code",
   "execution_count": 74,
   "id": "59c90bd1-8165-4d61-801c-1e279bb4aa41",
   "metadata": {},
   "outputs": [
    {
     "data": {
      "text/plain": [
       "array([100,   2, 777])"
      ]
     },
     "execution_count": 74,
     "metadata": {},
     "output_type": "execute_result"
    }
   ],
   "source": [
    "a_sub\n"
   ]
  },
  {
   "cell_type": "code",
   "execution_count": 75,
   "id": "0efc8a62-5e8d-4e75-a033-f34e0330e125",
   "metadata": {},
   "outputs": [
    {
     "data": {
      "text/plain": [
       "array([100,   2, 777,   4,   5])"
      ]
     },
     "execution_count": 75,
     "metadata": {},
     "output_type": "execute_result"
    }
   ],
   "source": [
    "a1"
   ]
  },
  {
   "cell_type": "code",
   "execution_count": 76,
   "id": "5aa2b228-2f4b-4e72-ad16-13dde80c4286",
   "metadata": {},
   "outputs": [],
   "source": [
    "a_copy =a1.copy()"
   ]
  },
  {
   "cell_type": "code",
   "execution_count": 77,
   "id": "4d3b28b9-823d-4d8f-91ef-d942dfcb76a4",
   "metadata": {},
   "outputs": [
    {
     "data": {
      "text/plain": [
       "array([100,   2, 777,   4,   5])"
      ]
     },
     "execution_count": 77,
     "metadata": {},
     "output_type": "execute_result"
    }
   ],
   "source": [
    "a_copy\n"
   ]
  },
  {
   "cell_type": "code",
   "execution_count": 78,
   "id": "22877cbe-9640-4204-87cf-5d94693f8aa3",
   "metadata": {},
   "outputs": [],
   "source": [
    "a_copy[2]=200"
   ]
  },
  {
   "cell_type": "code",
   "execution_count": 79,
   "id": "fe409edc-4962-44d6-a102-9277199ee0e6",
   "metadata": {},
   "outputs": [
    {
     "data": {
      "text/plain": [
       "array([100,   2, 200,   4,   5])"
      ]
     },
     "execution_count": 79,
     "metadata": {},
     "output_type": "execute_result"
    }
   ],
   "source": [
    "a_copy"
   ]
  },
  {
   "cell_type": "code",
   "execution_count": 80,
   "id": "dbb9f4d3-0016-4a67-94ca-4890fadadc24",
   "metadata": {},
   "outputs": [
    {
     "data": {
      "text/plain": [
       "array([100,   2, 777,   4,   5])"
      ]
     },
     "execution_count": 80,
     "metadata": {},
     "output_type": "execute_result"
    }
   ],
   "source": [
    "a1"
   ]
  },
  {
   "cell_type": "markdown",
   "id": "d704fe6e-7063-4b3b-8dcf-55a159621090",
   "metadata": {},
   "source": [
    "<b>Reshapping</b>"
   ]
  },
  {
   "cell_type": "code",
   "execution_count": 234,
   "id": "20566c9e-0404-4f20-9fa2-b3703c9ec584",
   "metadata": {},
   "outputs": [
    {
     "data": {
      "text/plain": [
       "array([  1,   5,   6,   7,   7,   8,   8,  64,  34, 333,   3,   2])"
      ]
     },
     "execution_count": 234,
     "metadata": {},
     "output_type": "execute_result"
    }
   ],
   "source": [
    "oned_array = np.array([1,5,6,7,7,8,8,64,34,333,3,2])\n",
    "oned_array"
   ]
  },
  {
   "cell_type": "code",
   "execution_count": 85,
   "id": "63f575be-1cef-4202-bc89-2834e3150243",
   "metadata": {},
   "outputs": [
    {
     "data": {
      "text/plain": [
       "9"
      ]
     },
     "execution_count": 85,
     "metadata": {},
     "output_type": "execute_result"
    }
   ],
   "source": [
    "one_arr.size"
   ]
  },
  {
   "cell_type": "code",
   "execution_count": 86,
   "id": "aac2932c-17fb-4c58-bf32-9283eae682e5",
   "metadata": {},
   "outputs": [
    {
     "data": {
      "text/plain": [
       "1"
      ]
     },
     "execution_count": 86,
     "metadata": {},
     "output_type": "execute_result"
    }
   ],
   "source": [
    "one_arr.ndim\n"
   ]
  },
  {
   "cell_type": "code",
   "execution_count": 242,
   "id": "db25481c-df13-4acd-92f9-3f7d664cc2f8",
   "metadata": {},
   "outputs": [
    {
     "data": {
      "text/plain": [
       "array([[  1,   5,   6],\n",
       "       [  7,   7,   8],\n",
       "       [  8,  64,  34],\n",
       "       [333,   3,   2]])"
      ]
     },
     "execution_count": 242,
     "metadata": {},
     "output_type": "execute_result"
    }
   ],
   "source": [
    "two_d_array = oned_array.reshape(4,3)\n",
    "two_d_array"
   ]
  },
  {
   "cell_type": "code",
   "execution_count": 240,
   "id": "b4c7f766-13f2-47c7-804c-0da61b4d1699",
   "metadata": {},
   "outputs": [
    {
     "data": {
      "text/plain": [
       "array([[  1,   5,   6,   7,   7,   8],\n",
       "       [  8,  64,  34, 333,   3,   2]])"
      ]
     },
     "execution_count": 240,
     "metadata": {},
     "output_type": "execute_result"
    }
   ],
   "source": [
    "two_d_array = oned_array.reshape(2,6)\n",
    "two_d_array"
   ]
  },
  {
   "cell_type": "code",
   "execution_count": 98,
   "id": "0847a56a-c263-4764-9db2-d1ed63ba56f2",
   "metadata": {},
   "outputs": [
    {
     "data": {
      "text/plain": [
       "'3.9.7 (default, Sep 16 2021, 08:50:36) \\n[Clang 10.0.0 ]'"
      ]
     },
     "execution_count": 98,
     "metadata": {},
     "output_type": "execute_result"
    }
   ],
   "source": [
    "import sys\n",
    "sys.version"
   ]
  },
  {
   "cell_type": "code",
   "execution_count": 119,
   "id": "f01fd206-fc8f-4ff9-9ff4-57921b551f8f",
   "metadata": {},
   "outputs": [
    {
     "name": "stdout",
     "output_type": "stream",
     "text": [
      "704 µs ± 18 µs per loop (mean ± std. dev. of 7 runs, 1000 loops each)\n"
     ]
    }
   ],
   "source": [
    "ar1 = np.arange(1, 10000)\n",
    "%timeit sum(ar1)\n"
   ]
  },
  {
   "cell_type": "code",
   "execution_count": 117,
   "id": "ac107e64-7847-4640-9fcd-346caea39a94",
   "metadata": {},
   "outputs": [
    {
     "name": "stdout",
     "output_type": "stream",
     "text": [
      "2.99 µs ± 139 ns per loop (mean ± std. dev. of 7 runs, 100000 loops each)\n"
     ]
    }
   ],
   "source": [
    "%timeit np.sum(ar1)"
   ]
  },
  {
   "cell_type": "code",
   "execution_count": 120,
   "id": "9e24cb02-ae4c-4cbd-a380-e456e1872d7e",
   "metadata": {},
   "outputs": [
    {
     "data": {
      "text/plain": [
       "array([105,   7, 782,   9,  10])"
      ]
     },
     "execution_count": 120,
     "metadata": {},
     "output_type": "execute_result"
    }
   ],
   "source": [
    "a1+5"
   ]
  },
  {
   "cell_type": "code",
   "execution_count": 121,
   "id": "3e8bc7d4-4d75-47d0-893b-7143282ba78f",
   "metadata": {},
   "outputs": [
    {
     "data": {
      "text/plain": [
       "array([102,   4, 779,   6,   7])"
      ]
     },
     "execution_count": 121,
     "metadata": {},
     "output_type": "execute_result"
    }
   ],
   "source": [
    "np.add(a1,2)"
   ]
  },
  {
   "cell_type": "code",
   "execution_count": 243,
   "id": "01cdcfe7-9fab-4c6a-a7b0-16405d9d4e33",
   "metadata": {},
   "outputs": [
    {
     "data": {
      "text/plain": [
       "array([[  1,   5,   6],\n",
       "       [  7,   7,   8],\n",
       "       [  8,  64,  34],\n",
       "       [333,   3,   2]])"
      ]
     },
     "execution_count": 243,
     "metadata": {},
     "output_type": "execute_result"
    }
   ],
   "source": [
    "two_d_array\n"
   ]
  },
  {
   "cell_type": "code",
   "execution_count": 125,
   "id": "af8039ab-520b-4349-b7b6-e3039245ed54",
   "metadata": {},
   "outputs": [],
   "source": [
    "a2 = np.array([[1,2,3],[4,5,6]])"
   ]
  },
  {
   "cell_type": "code",
   "execution_count": 127,
   "id": "3fc25093-ef28-467d-9b5a-3cb5c6da7abe",
   "metadata": {},
   "outputs": [
    {
     "data": {
      "text/plain": [
       "array([5, 7, 9])"
      ]
     },
     "execution_count": 127,
     "metadata": {},
     "output_type": "execute_result"
    }
   ],
   "source": [
    "np.sum(a2, axis=0)"
   ]
  },
  {
   "cell_type": "code",
   "execution_count": 244,
   "id": "c0c8fc76-60b2-4ac6-8b76-2aebd53a8088",
   "metadata": {},
   "outputs": [
    {
     "data": {
      "text/plain": [
       "array([ 6, 15])"
      ]
     },
     "execution_count": 244,
     "metadata": {},
     "output_type": "execute_result"
    }
   ],
   "source": [
    "np.sum(a2, axis=1)"
   ]
  },
  {
   "cell_type": "code",
   "execution_count": 129,
   "id": "dc9603ce-ba20-4a6b-8405-3c32b15c827e",
   "metadata": {},
   "outputs": [
    {
     "data": {
      "text/plain": [
       "array([100,   2, 777,   4,   5])"
      ]
     },
     "execution_count": 129,
     "metadata": {},
     "output_type": "execute_result"
    }
   ],
   "source": [
    "a1"
   ]
  },
  {
   "cell_type": "code",
   "execution_count": 130,
   "id": "64fb3003-aa91-48de-a428-2c4781ae315c",
   "metadata": {},
   "outputs": [
    {
     "data": {
      "text/plain": [
       "array([[False, False, False],\n",
       "       [ True, False, False]])"
      ]
     },
     "execution_count": 130,
     "metadata": {},
     "output_type": "execute_result"
    }
   ],
   "source": [
    "a2 == 4"
   ]
  },
  {
   "cell_type": "code",
   "execution_count": 131,
   "id": "6775f7a7-9c95-40c6-87ac-73ab4de04a9e",
   "metadata": {},
   "outputs": [
    {
     "data": {
      "text/plain": [
       "array([False,  True,  True,  True,  True])"
      ]
     },
     "execution_count": 131,
     "metadata": {},
     "output_type": "execute_result"
    }
   ],
   "source": [
    "a1 != 100"
   ]
  },
  {
   "cell_type": "code",
   "execution_count": 132,
   "id": "a3e7e558-7b8d-4c60-b08c-d4e2cf44c18b",
   "metadata": {},
   "outputs": [
    {
     "name": "stderr",
     "output_type": "stream",
     "text": [
      "/var/folders/c3/bw987b155ynfs7xrh5_pt9t40000gn/T/ipykernel_4444/3426729955.py:1: DeprecationWarning: elementwise comparison failed; this will raise an error in the future.\n",
      "  a1==a2\n"
     ]
    },
    {
     "data": {
      "text/plain": [
       "False"
      ]
     },
     "execution_count": 132,
     "metadata": {},
     "output_type": "execute_result"
    }
   ],
   "source": [
    "a1==a2"
   ]
  },
  {
   "cell_type": "code",
   "execution_count": 136,
   "id": "2dc1ace4-5344-408a-8491-cae575ba5386",
   "metadata": {},
   "outputs": [
    {
     "data": {
      "text/plain": [
       "True"
      ]
     },
     "execution_count": 136,
     "metadata": {},
     "output_type": "execute_result"
    }
   ],
   "source": [
    "np.all(a1>1)"
   ]
  },
  {
   "cell_type": "code",
   "execution_count": 134,
   "id": "a24f070b-3cbd-4ea7-ae2e-2c71a87c0226",
   "metadata": {},
   "outputs": [
    {
     "data": {
      "text/plain": [
       "array([100,   2, 777,   4,   5])"
      ]
     },
     "execution_count": 134,
     "metadata": {},
     "output_type": "execute_result"
    }
   ],
   "source": [
    "a1\n"
   ]
  },
  {
   "cell_type": "code",
   "execution_count": 138,
   "id": "48959826-3216-4be0-91dc-52a8aa1c515c",
   "metadata": {},
   "outputs": [
    {
     "data": {
      "text/plain": [
       "True"
      ]
     },
     "execution_count": 138,
     "metadata": {},
     "output_type": "execute_result"
    }
   ],
   "source": [
    "np.any(a1>776)"
   ]
  },
  {
   "cell_type": "code",
   "execution_count": 139,
   "id": "d4da8064-9964-4112-991a-296a0405b0a6",
   "metadata": {},
   "outputs": [
    {
     "data": {
      "text/plain": [
       "2"
      ]
     },
     "execution_count": 139,
     "metadata": {},
     "output_type": "execute_result"
    }
   ],
   "source": [
    "a1.min()"
   ]
  },
  {
   "cell_type": "code",
   "execution_count": 140,
   "id": "6605eb7a-197c-4034-b56a-516d46628b7c",
   "metadata": {},
   "outputs": [
    {
     "data": {
      "text/plain": [
       "6"
      ]
     },
     "execution_count": 140,
     "metadata": {},
     "output_type": "execute_result"
    }
   ],
   "source": [
    "a2.max()\n",
    "\n"
   ]
  },
  {
   "cell_type": "code",
   "execution_count": 141,
   "id": "f623729e-4e22-4232-8473-a8534ac966ec",
   "metadata": {},
   "outputs": [
    {
     "data": {
      "text/plain": [
       "302.0149665165619"
      ]
     },
     "execution_count": 141,
     "metadata": {},
     "output_type": "execute_result"
    }
   ],
   "source": [
    "a1.std()"
   ]
  },
  {
   "cell_type": "code",
   "execution_count": 142,
   "id": "80daeafe-162d-4300-bdb5-7acb53424975",
   "metadata": {},
   "outputs": [
    {
     "data": {
      "text/plain": [
       "177.6"
      ]
     },
     "execution_count": 142,
     "metadata": {},
     "output_type": "execute_result"
    }
   ],
   "source": [
    "a1.mean()"
   ]
  },
  {
   "cell_type": "code",
   "execution_count": 143,
   "id": "0b60cf09-f917-4c0b-9944-e2eb828bbf8c",
   "metadata": {},
   "outputs": [
    {
     "data": {
      "text/plain": [
       "91213.04000000001"
      ]
     },
     "execution_count": 143,
     "metadata": {},
     "output_type": "execute_result"
    }
   ],
   "source": [
    "a1.var()"
   ]
  },
  {
   "cell_type": "code",
   "execution_count": 144,
   "id": "29df942a-cc19-4bbe-b121-3a7f10638913",
   "metadata": {},
   "outputs": [],
   "source": [
    "a1.sort()"
   ]
  },
  {
   "cell_type": "code",
   "execution_count": 260,
   "id": "cea8ad9b-a193-4fe9-afc8-1f78be93f04d",
   "metadata": {},
   "outputs": [
    {
     "name": "stdout",
     "output_type": "stream",
     "text": [
      "[  1   4   8 100 200]\n"
     ]
    },
    {
     "data": {
      "text/plain": [
       "300"
      ]
     },
     "execution_count": 260,
     "metadata": {},
     "output_type": "execute_result"
    }
   ],
   "source": [
    "array_1= np.array([1,4,8,100,200])\n",
    "print(array_1)\n",
    "np.sum((array_1[array_1 > 8]))# expecting 300 as a sum  "
   ]
  },
  {
   "cell_type": "code",
   "execution_count": 180,
   "id": "32099864-06aa-43f0-ba9f-b47436e3688c",
   "metadata": {},
   "outputs": [
    {
     "data": {
      "text/plain": [
       "888"
      ]
     },
     "execution_count": 180,
     "metadata": {},
     "output_type": "execute_result"
    }
   ],
   "source": [
    " np.sum(a1)"
   ]
  },
  {
   "cell_type": "code",
   "execution_count": 173,
   "id": "1a4a420f-22c0-4ea9-95c6-e6cbb5a70b9d",
   "metadata": {},
   "outputs": [
    {
     "data": {
      "text/plain": [
       "array([  2,   4,   5, 100, 777])"
      ]
     },
     "execution_count": 173,
     "metadata": {},
     "output_type": "execute_result"
    }
   ],
   "source": [
    "a1\n"
   ]
  },
  {
   "cell_type": "code",
   "execution_count": 157,
   "id": "17bad43e-78eb-40ad-b20f-5f9dfdc01a6a",
   "metadata": {},
   "outputs": [
    {
     "data": {
      "text/plain": [
       "array([[1., 0., 0.],\n",
       "       [0., 1., 0.],\n",
       "       [0., 0., 1.]])"
      ]
     },
     "execution_count": 157,
     "metadata": {},
     "output_type": "execute_result"
    }
   ],
   "source": [
    "np.eye(3)"
   ]
  },
  {
   "cell_type": "markdown",
   "id": "c0af13d6-df0d-4287-b6a6-985585efb967",
   "metadata": {},
   "source": [
    "<b>Pandas</b>"
   ]
  },
  {
   "cell_type": "code",
   "execution_count": 181,
   "id": "c569b519-c2e7-489d-b9ed-334f5572db42",
   "metadata": {},
   "outputs": [],
   "source": [
    "import pandas as pd"
   ]
  },
  {
   "cell_type": "code",
   "execution_count": 182,
   "id": "5e70a6e5-e030-4d4d-82ae-ece3051e2360",
   "metadata": {},
   "outputs": [
    {
     "data": {
      "text/plain": [
       "'1.3.4'"
      ]
     },
     "execution_count": 182,
     "metadata": {},
     "output_type": "execute_result"
    }
   ],
   "source": [
    "pd.__version__\n"
   ]
  },
  {
   "cell_type": "code",
   "execution_count": 186,
   "id": "2381a51b-3d7b-4b1f-928a-df941c47f24d",
   "metadata": {},
   "outputs": [
    {
     "data": {
      "text/plain": [
       "'1.20.3'"
      ]
     },
     "execution_count": 186,
     "metadata": {},
     "output_type": "execute_result"
    }
   ],
   "source": [
    "np.__version__\n",
    "\n"
   ]
  },
  {
   "cell_type": "code",
   "execution_count": 187,
   "id": "76a2a2a9-483b-4dd0-b4d5-4dce07bd1a0c",
   "metadata": {},
   "outputs": [],
   "source": [
    "dic = {\"one\": [1,2,3,4]}"
   ]
  },
  {
   "cell_type": "code",
   "execution_count": 188,
   "id": "26d9534a-bf5c-4ee8-baee-46b78a5ebc6e",
   "metadata": {},
   "outputs": [
    {
     "data": {
      "text/plain": [
       "dict"
      ]
     },
     "execution_count": 188,
     "metadata": {},
     "output_type": "execute_result"
    }
   ],
   "source": [
    "type(dic)"
   ]
  },
  {
   "cell_type": "code",
   "execution_count": 189,
   "id": "7541e598-3fc5-4da1-9c8c-70135b6ac767",
   "metadata": {},
   "outputs": [],
   "source": [
    "my_series = pd.Series(dic)"
   ]
  },
  {
   "cell_type": "code",
   "execution_count": 190,
   "id": "ef6efe69-18d8-427d-9933-93d4dc56d4ac",
   "metadata": {},
   "outputs": [
    {
     "data": {
      "text/plain": [
       "pandas.core.series.Series"
      ]
     },
     "execution_count": 190,
     "metadata": {},
     "output_type": "execute_result"
    }
   ],
   "source": [
    "type(my_series)"
   ]
  },
  {
   "cell_type": "code",
   "execution_count": 191,
   "id": "09bdf79f-5183-4e7b-90cc-42b159ab53ff",
   "metadata": {},
   "outputs": [
    {
     "data": {
      "text/plain": [
       "one    [1, 2, 3, 4]\n",
       "dtype: object"
      ]
     },
     "execution_count": 191,
     "metadata": {},
     "output_type": "execute_result"
    }
   ],
   "source": [
    "my_series"
   ]
  },
  {
   "cell_type": "code",
   "execution_count": 192,
   "id": "76fd0039-18b2-475d-ab6b-9f21f9294199",
   "metadata": {},
   "outputs": [],
   "source": [
    "aa = np.random.randint(5, size=10)"
   ]
  },
  {
   "cell_type": "code",
   "execution_count": 193,
   "id": "e2d0aa9f-6c7f-47a7-a55e-54e2e714cd64",
   "metadata": {},
   "outputs": [
    {
     "data": {
      "text/plain": [
       "array([2, 3, 1, 0, 2, 3, 0, 0, 3, 3])"
      ]
     },
     "execution_count": 193,
     "metadata": {},
     "output_type": "execute_result"
    }
   ],
   "source": [
    "aa"
   ]
  },
  {
   "cell_type": "code",
   "execution_count": 194,
   "id": "bba4b396-18e3-4bff-af3d-9c57cbaeb27c",
   "metadata": {},
   "outputs": [],
   "source": [
    "series1 = pd.Series(aa)"
   ]
  },
  {
   "cell_type": "code",
   "execution_count": 195,
   "id": "af506bb8-954c-4b28-8b91-e860f9ff230b",
   "metadata": {},
   "outputs": [
    {
     "data": {
      "text/plain": [
       "0    2\n",
       "1    3\n",
       "2    1\n",
       "3    0\n",
       "4    2\n",
       "5    3\n",
       "6    0\n",
       "7    0\n",
       "8    3\n",
       "9    3\n",
       "dtype: int64"
      ]
     },
     "execution_count": 195,
     "metadata": {},
     "output_type": "execute_result"
    }
   ],
   "source": [
    "series1"
   ]
  },
  {
   "cell_type": "code",
   "execution_count": 203,
   "id": "ba15da3e-c65c-426c-bc1b-80992723610a",
   "metadata": {},
   "outputs": [],
   "source": [
    "dict = {\n",
    "    \"id\":[1,2,3,4, 5], \"name\":[\"a\",\"s\",\"d\",\"f\",\"s\"]\n",
    "}"
   ]
  },
  {
   "cell_type": "code",
   "execution_count": 197,
   "id": "a4838f50-0861-460a-907d-6c3a99575481",
   "metadata": {},
   "outputs": [
    {
     "data": {
      "text/plain": [
       "dict"
      ]
     },
     "execution_count": 197,
     "metadata": {},
     "output_type": "execute_result"
    }
   ],
   "source": [
    "type(dict)"
   ]
  },
  {
   "cell_type": "code",
   "execution_count": 204,
   "id": "d388c0e5-fb04-4086-a8be-345b65f8f74d",
   "metadata": {},
   "outputs": [],
   "source": [
    "df = pd.DataFrame(dict)"
   ]
  },
  {
   "cell_type": "code",
   "execution_count": 205,
   "id": "39f1bdc0-a3dd-4df7-b811-1baf50f1d02a",
   "metadata": {},
   "outputs": [
    {
     "data": {
      "text/html": [
       "<div>\n",
       "<style scoped>\n",
       "    .dataframe tbody tr th:only-of-type {\n",
       "        vertical-align: middle;\n",
       "    }\n",
       "\n",
       "    .dataframe tbody tr th {\n",
       "        vertical-align: top;\n",
       "    }\n",
       "\n",
       "    .dataframe thead th {\n",
       "        text-align: right;\n",
       "    }\n",
       "</style>\n",
       "<table border=\"1\" class=\"dataframe\">\n",
       "  <thead>\n",
       "    <tr style=\"text-align: right;\">\n",
       "      <th></th>\n",
       "      <th>id</th>\n",
       "      <th>name</th>\n",
       "    </tr>\n",
       "  </thead>\n",
       "  <tbody>\n",
       "    <tr>\n",
       "      <th>0</th>\n",
       "      <td>1</td>\n",
       "      <td>a</td>\n",
       "    </tr>\n",
       "    <tr>\n",
       "      <th>1</th>\n",
       "      <td>2</td>\n",
       "      <td>s</td>\n",
       "    </tr>\n",
       "    <tr>\n",
       "      <th>2</th>\n",
       "      <td>3</td>\n",
       "      <td>d</td>\n",
       "    </tr>\n",
       "    <tr>\n",
       "      <th>3</th>\n",
       "      <td>4</td>\n",
       "      <td>f</td>\n",
       "    </tr>\n",
       "    <tr>\n",
       "      <th>4</th>\n",
       "      <td>5</td>\n",
       "      <td>s</td>\n",
       "    </tr>\n",
       "  </tbody>\n",
       "</table>\n",
       "</div>"
      ],
      "text/plain": [
       "   id name\n",
       "0   1    a\n",
       "1   2    s\n",
       "2   3    d\n",
       "3   4    f\n",
       "4   5    s"
      ]
     },
     "execution_count": 205,
     "metadata": {},
     "output_type": "execute_result"
    }
   ],
   "source": [
    "df"
   ]
  },
  {
   "cell_type": "code",
   "execution_count": 210,
   "id": "a77770c5-fb70-411f-82ac-0080e7ecfc62",
   "metadata": {},
   "outputs": [
    {
     "data": {
      "text/plain": [
       "Index(['id', 'name'], dtype='object')"
      ]
     },
     "execution_count": 210,
     "metadata": {},
     "output_type": "execute_result"
    }
   ],
   "source": [
    "df.columns"
   ]
  },
  {
   "cell_type": "code",
   "execution_count": 213,
   "id": "4b2a510d-c903-453a-8ef3-032f0e7435f0",
   "metadata": {},
   "outputs": [
    {
     "data": {
      "text/plain": [
       "id       int64\n",
       "name    object\n",
       "dtype: object"
      ]
     },
     "execution_count": 213,
     "metadata": {},
     "output_type": "execute_result"
    }
   ],
   "source": [
    "df.dtypes"
   ]
  },
  {
   "cell_type": "code",
   "execution_count": 214,
   "id": "3eb270d0-e43f-4016-91dd-5418f1235a55",
   "metadata": {},
   "outputs": [],
   "source": [
    "users= pd.read_csv(\"user.csv\")"
   ]
  },
  {
   "cell_type": "code",
   "execution_count": 215,
   "id": "520bd2fd-b76a-4363-aa2a-fecdfec43bb7",
   "metadata": {},
   "outputs": [
    {
     "data": {
      "text/html": [
       "<div>\n",
       "<style scoped>\n",
       "    .dataframe tbody tr th:only-of-type {\n",
       "        vertical-align: middle;\n",
       "    }\n",
       "\n",
       "    .dataframe tbody tr th {\n",
       "        vertical-align: top;\n",
       "    }\n",
       "\n",
       "    .dataframe thead th {\n",
       "        text-align: right;\n",
       "    }\n",
       "</style>\n",
       "<table border=\"1\" class=\"dataframe\">\n",
       "  <thead>\n",
       "    <tr style=\"text-align: right;\">\n",
       "      <th></th>\n",
       "      <th>id</th>\n",
       "      <th>active</th>\n",
       "      <th>notification_cc_emails</th>\n",
       "      <th>created_by</th>\n",
       "      <th>created_at</th>\n",
       "      <th>updated_by</th>\n",
       "      <th>updated_at</th>\n",
       "      <th>first_name</th>\n",
       "      <th>last_name</th>\n",
       "      <th>email</th>\n",
       "      <th>...</th>\n",
       "      <th>logins_count</th>\n",
       "      <th>user_type</th>\n",
       "      <th>role</th>\n",
       "      <th>reminder_count</th>\n",
       "      <th>last_reminder_sent</th>\n",
       "      <th>enable_welcome_email</th>\n",
       "      <th>id.1</th>\n",
       "      <th>sales_org</th>\n",
       "      <th>customer_code</th>\n",
       "      <th>customer_name</th>\n",
       "    </tr>\n",
       "  </thead>\n",
       "  <tbody>\n",
       "    <tr>\n",
       "      <th>0</th>\n",
       "      <td>auth0|5b28a85508de1a4228a84092</td>\n",
       "      <td>True</td>\n",
       "      <td>[\"Minh.TUYET@Coats.com\"]</td>\n",
       "      <td>migrated</td>\n",
       "      <td>2018-06-19 12:21:29.753 +0530</td>\n",
       "      <td>auth0-user-sync-process</td>\n",
       "      <td>2021-12-03 17:30:09.114 +0530</td>\n",
       "      <td>Ms Nhi</td>\n",
       "      <td>0977 341 722</td>\n",
       "      <td>thanh.nguyen@qmico.com</td>\n",
       "      <td>...</td>\n",
       "      <td>0</td>\n",
       "      <td>EX</td>\n",
       "      <td>USR</td>\n",
       "      <td>1</td>\n",
       "      <td>2021-12-10 05:30:16.481 +0530</td>\n",
       "      <td>True</td>\n",
       "      <td>auth0|5b28a85508de1a4228a84092</td>\n",
       "      <td>VN50</td>\n",
       "      <td>119249</td>\n",
       "      <td>CTY TNHH QUINT MAJOR INDUSTRIAL VIET NAM (0%VAT)</td>\n",
       "    </tr>\n",
       "    <tr>\n",
       "      <th>1</th>\n",
       "      <td>auth0|5b28aeae0cbf6f1e2bec50d8</td>\n",
       "      <td>True</td>\n",
       "      <td>[\"thuy.vo@coats.com\"]</td>\n",
       "      <td>migrated</td>\n",
       "      <td>2018-06-19 12:49:49.137 +0530</td>\n",
       "      <td>auth0-user-sync-process</td>\n",
       "      <td>2021-11-03 14:30:02.276 +0530</td>\n",
       "      <td>MERRY ( THANH)</td>\n",
       "      <td>706660346</td>\n",
       "      <td>mery@wondo.net</td>\n",
       "      <td>...</td>\n",
       "      <td>1</td>\n",
       "      <td>EX</td>\n",
       "      <td>USR</td>\n",
       "      <td>0</td>\n",
       "      <td>NaN</td>\n",
       "      <td>True</td>\n",
       "      <td>auth0|5b28aeae0cbf6f1e2bec50d8</td>\n",
       "      <td>VN50</td>\n",
       "      <td>130624</td>\n",
       "      <td>CTY TNHH MOT THANH VIEN WONDO VINA</td>\n",
       "    </tr>\n",
       "    <tr>\n",
       "      <th>2</th>\n",
       "      <td>auth0|5b28aeaf0cbf6f1e2bec50eb</td>\n",
       "      <td>True</td>\n",
       "      <td>[\"hien.nguyentt@coats.com\", \"ngocnhan@ducthanh...</td>\n",
       "      <td>migrated</td>\n",
       "      <td>2018-06-19 12:49:49.136 +0530</td>\n",
       "      <td>auth0-user-sync-process</td>\n",
       "      <td>2021-12-10 17:10:58.110 +0530</td>\n",
       "      <td>Mr</td>\n",
       "      <td>Tra</td>\n",
       "      <td>phuoctra@ducthanhkl.com.vn</td>\n",
       "      <td>...</td>\n",
       "      <td>11</td>\n",
       "      <td>EX</td>\n",
       "      <td>USR</td>\n",
       "      <td>0</td>\n",
       "      <td>NaN</td>\n",
       "      <td>True</td>\n",
       "      <td>auth0|5b28aeaf0cbf6f1e2bec50eb</td>\n",
       "      <td>VN50</td>\n",
       "      <td>119310</td>\n",
       "      <td>CTY TNHH MAY XNK DUC THANH 2</td>\n",
       "    </tr>\n",
       "    <tr>\n",
       "      <th>3</th>\n",
       "      <td>auth0|5b28a12508de1a4228a831ef</td>\n",
       "      <td>True</td>\n",
       "      <td>[\"Dep.HUYNH@coats.com\", \"camy.vn@bodynits.com\"...</td>\n",
       "      <td>migrated</td>\n",
       "      <td>2018-06-19 11:51:54.521 +0530</td>\n",
       "      <td>auth0-user-sync-process</td>\n",
       "      <td>2021-10-15 14:18:12.046 +0530</td>\n",
       "      <td>Ms. Kite</td>\n",
       "      <td>--</td>\n",
       "      <td>kite.vn@bodynits.com</td>\n",
       "      <td>...</td>\n",
       "      <td>0</td>\n",
       "      <td>EX</td>\n",
       "      <td>USR</td>\n",
       "      <td>4</td>\n",
       "      <td>2021-11-28 05:30:12.177 +0530</td>\n",
       "      <td>True</td>\n",
       "      <td>auth0|5b28a12508de1a4228a831ef</td>\n",
       "      <td>VN50</td>\n",
       "      <td>119381</td>\n",
       "      <td>CTY LIEN DOANH AN THANH (TNHH)</td>\n",
       "    </tr>\n",
       "    <tr>\n",
       "      <th>4</th>\n",
       "      <td>auth0|5b28c4eb8702af037db95752</td>\n",
       "      <td>True</td>\n",
       "      <td>[\"\"]</td>\n",
       "      <td>migrated</td>\n",
       "      <td>2018-06-19 14:24:54.575 +0530</td>\n",
       "      <td>auth0-user-sync-process</td>\n",
       "      <td>2021-12-03 17:30:09.117 +0530</td>\n",
       "      <td>Nguyen</td>\n",
       "      <td>Vien</td>\n",
       "      <td>nguyen.vien@qmico.com</td>\n",
       "      <td>...</td>\n",
       "      <td>0</td>\n",
       "      <td>EX</td>\n",
       "      <td>USR</td>\n",
       "      <td>1</td>\n",
       "      <td>2021-12-10 05:30:19.066 +0530</td>\n",
       "      <td>True</td>\n",
       "      <td>auth0|5b28c4eb8702af037db95752</td>\n",
       "      <td>VN50</td>\n",
       "      <td>119249</td>\n",
       "      <td>CTY TNHH QUINT MAJOR INDUSTRIAL VIET NAM (0%VAT)</td>\n",
       "    </tr>\n",
       "    <tr>\n",
       "      <th>...</th>\n",
       "      <td>...</td>\n",
       "      <td>...</td>\n",
       "      <td>...</td>\n",
       "      <td>...</td>\n",
       "      <td>...</td>\n",
       "      <td>...</td>\n",
       "      <td>...</td>\n",
       "      <td>...</td>\n",
       "      <td>...</td>\n",
       "      <td>...</td>\n",
       "      <td>...</td>\n",
       "      <td>...</td>\n",
       "      <td>...</td>\n",
       "      <td>...</td>\n",
       "      <td>...</td>\n",
       "      <td>...</td>\n",
       "      <td>...</td>\n",
       "      <td>...</td>\n",
       "      <td>...</td>\n",
       "      <td>...</td>\n",
       "      <td>...</td>\n",
       "    </tr>\n",
       "    <tr>\n",
       "      <th>1044</th>\n",
       "      <td>auth0|61b1f26e36407f007184a729</td>\n",
       "      <td>True</td>\n",
       "      <td>[\"thu.ngoc@coats.com\"]</td>\n",
       "      <td>migrated</td>\n",
       "      <td>2021-12-09 17:41:26.132 +0530</td>\n",
       "      <td>auth0-user-sync-process</td>\n",
       "      <td>2021-12-09 18:30:13.572 +0530</td>\n",
       "      <td>Ms Dương</td>\n",
       "      <td>01696 993 219</td>\n",
       "      <td>merch_5_thuyduong@royalspirit.com.vn</td>\n",
       "      <td>...</td>\n",
       "      <td>0</td>\n",
       "      <td>EX</td>\n",
       "      <td>USR</td>\n",
       "      <td>1</td>\n",
       "      <td>2021-12-16 05:32:19.870 +0530</td>\n",
       "      <td>True</td>\n",
       "      <td>auth0|61b1f26e36407f007184a729</td>\n",
       "      <td>VN50</td>\n",
       "      <td>141821</td>\n",
       "      <td>CÔNG TY TNHH MTV NHÀ MÁY MAY MẶC ĐỨC (10%VAT)</td>\n",
       "    </tr>\n",
       "    <tr>\n",
       "      <th>1045</th>\n",
       "      <td>auth0|61b1f2733a87c80068374844</td>\n",
       "      <td>True</td>\n",
       "      <td>[\"thu.ngoc@coats.com\"]</td>\n",
       "      <td>migrated</td>\n",
       "      <td>2021-12-09 17:41:31.308 +0530</td>\n",
       "      <td>auth0-user-sync-process</td>\n",
       "      <td>2021-12-09 18:30:13.565 +0530</td>\n",
       "      <td>Mr</td>\n",
       "      <td>Vinh 01228782802</td>\n",
       "      <td>merch_9_lucamvinh@royalspirit.com.vn</td>\n",
       "      <td>...</td>\n",
       "      <td>0</td>\n",
       "      <td>EX</td>\n",
       "      <td>USR</td>\n",
       "      <td>1</td>\n",
       "      <td>2021-12-16 05:32:20.274 +0530</td>\n",
       "      <td>True</td>\n",
       "      <td>auth0|61b1f2733a87c80068374844</td>\n",
       "      <td>VN50</td>\n",
       "      <td>141821</td>\n",
       "      <td>CÔNG TY TNHH MTV NHÀ MÁY MAY MẶC ĐỨC (10%VAT)</td>\n",
       "    </tr>\n",
       "    <tr>\n",
       "      <th>1046</th>\n",
       "      <td>auth0|61b1f28a08dd210072ee4b09</td>\n",
       "      <td>True</td>\n",
       "      <td>[\"Tuyen.nguyen@coats.com\", \"lan.pham@coats.com\"]</td>\n",
       "      <td>migrated</td>\n",
       "      <td>2021-12-09 17:41:54.930 +0530</td>\n",
       "      <td>auth0-user-sync-process</td>\n",
       "      <td>2021-12-11 07:30:06.313 +0530</td>\n",
       "      <td>My</td>\n",
       "      <td>Anh</td>\n",
       "      <td>process@igm-vn.com</td>\n",
       "      <td>...</td>\n",
       "      <td>1</td>\n",
       "      <td>EX</td>\n",
       "      <td>USR</td>\n",
       "      <td>0</td>\n",
       "      <td>2021-12-09 19:58:49.689 +0530</td>\n",
       "      <td>True</td>\n",
       "      <td>auth0|61b1f28a08dd210072ee4b09</td>\n",
       "      <td>VN50</td>\n",
       "      <td>139412</td>\n",
       "      <td>CONG TY TNHH IGM (10%VAT)</td>\n",
       "    </tr>\n",
       "    <tr>\n",
       "      <th>1047</th>\n",
       "      <td>auth0|61b1f28f16651f006a398def</td>\n",
       "      <td>True</td>\n",
       "      <td>[\"thu.ngoc@coats.com\"]</td>\n",
       "      <td>migrated</td>\n",
       "      <td>2021-12-09 17:41:59.188 +0530</td>\n",
       "      <td>auth0-user-sync-process</td>\n",
       "      <td>2021-12-22 13:30:06.367 +0530</td>\n",
       "      <td>Kim</td>\n",
       "      <td>Hanh 0972 332 704</td>\n",
       "      <td>purch_hanale@dbw.com.vn</td>\n",
       "      <td>...</td>\n",
       "      <td>3</td>\n",
       "      <td>EX</td>\n",
       "      <td>USR</td>\n",
       "      <td>0</td>\n",
       "      <td>2021-12-09 19:58:50.565 +0530</td>\n",
       "      <td>True</td>\n",
       "      <td>auth0|61b1f28f16651f006a398def</td>\n",
       "      <td>VN50</td>\n",
       "      <td>141821</td>\n",
       "      <td>CÔNG TY TNHH MTV NHÀ MÁY MAY MẶC ĐỨC (10%VAT)</td>\n",
       "    </tr>\n",
       "    <tr>\n",
       "      <th>1048</th>\n",
       "      <td>auth0|61b1f2f47b73890070820978</td>\n",
       "      <td>True</td>\n",
       "      <td>[\"hien.nguyentt@coats.com\"]</td>\n",
       "      <td>migrated</td>\n",
       "      <td>2021-12-09 17:43:40.138 +0530</td>\n",
       "      <td>auth0-user-sync-process</td>\n",
       "      <td>2021-12-09 18:30:13.477 +0530</td>\n",
       "      <td>Ms. Thu Thủy</td>\n",
       "      <td>NaN</td>\n",
       "      <td>thuthuy.merch@demcovina.com</td>\n",
       "      <td>...</td>\n",
       "      <td>0</td>\n",
       "      <td>EX</td>\n",
       "      <td>USR</td>\n",
       "      <td>1</td>\n",
       "      <td>2021-12-16 05:32:24.385 +0530</td>\n",
       "      <td>True</td>\n",
       "      <td>auth0|61b1f2f47b73890070820978</td>\n",
       "      <td>VN50</td>\n",
       "      <td>421828</td>\n",
       "      <td>CÔNG TY TNHH LINKUP VIETNAM</td>\n",
       "    </tr>\n",
       "  </tbody>\n",
       "</table>\n",
       "<p>1049 rows × 38 columns</p>\n",
       "</div>"
      ],
      "text/plain": [
       "                                  id  active  \\\n",
       "0     auth0|5b28a85508de1a4228a84092    True   \n",
       "1     auth0|5b28aeae0cbf6f1e2bec50d8    True   \n",
       "2     auth0|5b28aeaf0cbf6f1e2bec50eb    True   \n",
       "3     auth0|5b28a12508de1a4228a831ef    True   \n",
       "4     auth0|5b28c4eb8702af037db95752    True   \n",
       "...                              ...     ...   \n",
       "1044  auth0|61b1f26e36407f007184a729    True   \n",
       "1045  auth0|61b1f2733a87c80068374844    True   \n",
       "1046  auth0|61b1f28a08dd210072ee4b09    True   \n",
       "1047  auth0|61b1f28f16651f006a398def    True   \n",
       "1048  auth0|61b1f2f47b73890070820978    True   \n",
       "\n",
       "                                 notification_cc_emails created_by  \\\n",
       "0                              [\"Minh.TUYET@Coats.com\"]   migrated   \n",
       "1                                 [\"thuy.vo@coats.com\"]   migrated   \n",
       "2     [\"hien.nguyentt@coats.com\", \"ngocnhan@ducthanh...   migrated   \n",
       "3     [\"Dep.HUYNH@coats.com\", \"camy.vn@bodynits.com\"...   migrated   \n",
       "4                                                  [\"\"]   migrated   \n",
       "...                                                 ...        ...   \n",
       "1044                             [\"thu.ngoc@coats.com\"]   migrated   \n",
       "1045                             [\"thu.ngoc@coats.com\"]   migrated   \n",
       "1046   [\"Tuyen.nguyen@coats.com\", \"lan.pham@coats.com\"]   migrated   \n",
       "1047                             [\"thu.ngoc@coats.com\"]   migrated   \n",
       "1048                        [\"hien.nguyentt@coats.com\"]   migrated   \n",
       "\n",
       "                         created_at               updated_by  \\\n",
       "0     2018-06-19 12:21:29.753 +0530  auth0-user-sync-process   \n",
       "1     2018-06-19 12:49:49.137 +0530  auth0-user-sync-process   \n",
       "2     2018-06-19 12:49:49.136 +0530  auth0-user-sync-process   \n",
       "3     2018-06-19 11:51:54.521 +0530  auth0-user-sync-process   \n",
       "4     2018-06-19 14:24:54.575 +0530  auth0-user-sync-process   \n",
       "...                             ...                      ...   \n",
       "1044  2021-12-09 17:41:26.132 +0530  auth0-user-sync-process   \n",
       "1045  2021-12-09 17:41:31.308 +0530  auth0-user-sync-process   \n",
       "1046  2021-12-09 17:41:54.930 +0530  auth0-user-sync-process   \n",
       "1047  2021-12-09 17:41:59.188 +0530  auth0-user-sync-process   \n",
       "1048  2021-12-09 17:43:40.138 +0530  auth0-user-sync-process   \n",
       "\n",
       "                         updated_at       first_name          last_name  \\\n",
       "0     2021-12-03 17:30:09.114 +0530           Ms Nhi       0977 341 722   \n",
       "1     2021-11-03 14:30:02.276 +0530  MERRY ( THANH)           706660346   \n",
       "2     2021-12-10 17:10:58.110 +0530               Mr                Tra   \n",
       "3     2021-10-15 14:18:12.046 +0530         Ms. Kite                 --   \n",
       "4     2021-12-03 17:30:09.117 +0530           Nguyen               Vien   \n",
       "...                             ...              ...                ...   \n",
       "1044  2021-12-09 18:30:13.572 +0530         Ms Dương      01696 993 219   \n",
       "1045  2021-12-09 18:30:13.565 +0530               Mr   Vinh 01228782802   \n",
       "1046  2021-12-11 07:30:06.313 +0530               My                Anh   \n",
       "1047  2021-12-22 13:30:06.367 +0530              Kim  Hanh 0972 332 704   \n",
       "1048  2021-12-09 18:30:13.477 +0530     Ms. Thu Thủy                NaN   \n",
       "\n",
       "                                     email  ... logins_count  user_type role  \\\n",
       "0                   thanh.nguyen@qmico.com  ...            0         EX  USR   \n",
       "1                           mery@wondo.net  ...            1         EX  USR   \n",
       "2               phuoctra@ducthanhkl.com.vn  ...           11         EX  USR   \n",
       "3                     kite.vn@bodynits.com  ...            0         EX  USR   \n",
       "4                    nguyen.vien@qmico.com  ...            0         EX  USR   \n",
       "...                                    ...  ...          ...        ...  ...   \n",
       "1044  merch_5_thuyduong@royalspirit.com.vn  ...            0         EX  USR   \n",
       "1045  merch_9_lucamvinh@royalspirit.com.vn  ...            0         EX  USR   \n",
       "1046                    process@igm-vn.com  ...            1         EX  USR   \n",
       "1047               purch_hanale@dbw.com.vn  ...            3         EX  USR   \n",
       "1048           thuthuy.merch@demcovina.com  ...            0         EX  USR   \n",
       "\n",
       "     reminder_count             last_reminder_sent enable_welcome_email  \\\n",
       "0                 1  2021-12-10 05:30:16.481 +0530                 True   \n",
       "1                 0                            NaN                 True   \n",
       "2                 0                            NaN                 True   \n",
       "3                 4  2021-11-28 05:30:12.177 +0530                 True   \n",
       "4                 1  2021-12-10 05:30:19.066 +0530                 True   \n",
       "...             ...                            ...                  ...   \n",
       "1044              1  2021-12-16 05:32:19.870 +0530                 True   \n",
       "1045              1  2021-12-16 05:32:20.274 +0530                 True   \n",
       "1046              0  2021-12-09 19:58:49.689 +0530                 True   \n",
       "1047              0  2021-12-09 19:58:50.565 +0530                 True   \n",
       "1048              1  2021-12-16 05:32:24.385 +0530                 True   \n",
       "\n",
       "                                id.1 sales_org customer_code  \\\n",
       "0     auth0|5b28a85508de1a4228a84092      VN50        119249   \n",
       "1     auth0|5b28aeae0cbf6f1e2bec50d8      VN50        130624   \n",
       "2     auth0|5b28aeaf0cbf6f1e2bec50eb      VN50        119310   \n",
       "3     auth0|5b28a12508de1a4228a831ef      VN50        119381   \n",
       "4     auth0|5b28c4eb8702af037db95752      VN50        119249   \n",
       "...                              ...       ...           ...   \n",
       "1044  auth0|61b1f26e36407f007184a729      VN50        141821   \n",
       "1045  auth0|61b1f2733a87c80068374844      VN50        141821   \n",
       "1046  auth0|61b1f28a08dd210072ee4b09      VN50        139412   \n",
       "1047  auth0|61b1f28f16651f006a398def      VN50        141821   \n",
       "1048  auth0|61b1f2f47b73890070820978      VN50        421828   \n",
       "\n",
       "                                         customer_name  \n",
       "0     CTY TNHH QUINT MAJOR INDUSTRIAL VIET NAM (0%VAT)  \n",
       "1                   CTY TNHH MOT THANH VIEN WONDO VINA  \n",
       "2                         CTY TNHH MAY XNK DUC THANH 2  \n",
       "3                       CTY LIEN DOANH AN THANH (TNHH)  \n",
       "4     CTY TNHH QUINT MAJOR INDUSTRIAL VIET NAM (0%VAT)  \n",
       "...                                                ...  \n",
       "1044     CÔNG TY TNHH MTV NHÀ MÁY MAY MẶC ĐỨC (10%VAT)  \n",
       "1045     CÔNG TY TNHH MTV NHÀ MÁY MAY MẶC ĐỨC (10%VAT)  \n",
       "1046                         CONG TY TNHH IGM (10%VAT)  \n",
       "1047     CÔNG TY TNHH MTV NHÀ MÁY MAY MẶC ĐỨC (10%VAT)  \n",
       "1048                       CÔNG TY TNHH LINKUP VIETNAM  \n",
       "\n",
       "[1049 rows x 38 columns]"
      ]
     },
     "execution_count": 215,
     "metadata": {},
     "output_type": "execute_result"
    }
   ],
   "source": [
    "users"
   ]
  },
  {
   "cell_type": "code",
   "execution_count": 217,
   "id": "7fb59a58-8009-4804-b919-f3a0fccfcc2d",
   "metadata": {},
   "outputs": [
    {
     "data": {
      "text/plain": [
       "0       EX\n",
       "1       EX\n",
       "2       EX\n",
       "3       EX\n",
       "4       EX\n",
       "        ..\n",
       "1044    EX\n",
       "1045    EX\n",
       "1046    EX\n",
       "1047    EX\n",
       "1048    EX\n",
       "Name: user_type, Length: 1049, dtype: object"
      ]
     },
     "execution_count": 217,
     "metadata": {},
     "output_type": "execute_result"
    }
   ],
   "source": [
    "users.user_type"
   ]
  },
  {
   "cell_type": "code",
   "execution_count": 221,
   "id": "b3ad1298-b66c-4521-8f9a-3936c4aa0d8e",
   "metadata": {},
   "outputs": [
    {
     "data": {
      "text/plain": [
       "'2018-06-19 11:51:54.521 +0530'"
      ]
     },
     "execution_count": 221,
     "metadata": {},
     "output_type": "execute_result"
    }
   ],
   "source": [
    "short_users = [\"id\", \"email\",\"user_type\"]\n",
    "users.iloc[3,4]"
   ]
  },
  {
   "cell_type": "code",
   "execution_count": 223,
   "id": "4ea01adc-7211-48c4-89b7-bed2e6d09929",
   "metadata": {},
   "outputs": [
    {
     "data": {
      "text/plain": [
       "id                                                       auth0|5b28a12508de1a4228a831ef\n",
       "active                                                                             True\n",
       "notification_cc_emails                [\"Dep.HUYNH@coats.com\", \"camy.vn@bodynits.com\"...\n",
       "created_by                                                                     migrated\n",
       "created_at                                                2018-06-19 11:51:54.521 +0530\n",
       "updated_by                                                      auth0-user-sync-process\n",
       "updated_at                                                2021-10-15 14:18:12.046 +0530\n",
       "first_name                                                                     Ms. Kite\n",
       "last_name                                                                            --\n",
       "email                                                              kite.vn@bodynits.com\n",
       "language                                                                        ENGLISH\n",
       "enable_monthly_invoice_report                                                     False\n",
       "customer_sales_orgs                    [{\"customerCode\": \"119381\", \"salesOrg\": \"VN50\"}]\n",
       "monthly_invoice_report_sent                                                         NaN\n",
       "contact_number                                                                       --\n",
       "country_code                                                                         VN\n",
       "date_format                                                                  dd-MM-yyyy\n",
       "time_format                                                                     KK:mm a\n",
       "number_format                                                                  ####,000\n",
       "time_zone                                                              Asia/Ho_Chi_Minh\n",
       "terms_and_conditions_accepted_date                                                  NaN\n",
       "enable_order_acknowledgement_email                                                 True\n",
       "enable_advance_shipment_notice                                                     True\n",
       "enable_payment_pre_reminder                                                        True\n",
       "enable_payment_alert                                                              False\n",
       "enable_immediate_order_update                                                     False\n",
       "never_authenticated                                                               False\n",
       "ship_to_parties                                                                    [\"\"]\n",
       "logins_count                                                                          0\n",
       "user_type                                                                            EX\n",
       "role                                                                                USR\n",
       "reminder_count                                                                        4\n",
       "last_reminder_sent                                        2021-11-28 05:30:12.177 +0530\n",
       "enable_welcome_email                                                               True\n",
       "id.1                                                     auth0|5b28a12508de1a4228a831ef\n",
       "sales_org                                                                          VN50\n",
       "customer_code                                                                    119381\n",
       "customer_name                                            CTY LIEN DOANH AN THANH (TNHH)\n",
       "Name: 3, dtype: object"
      ]
     },
     "execution_count": 223,
     "metadata": {},
     "output_type": "execute_result"
    }
   ],
   "source": [
    "users.loc[3]"
   ]
  },
  {
   "cell_type": "code",
   "execution_count": 225,
   "id": "e9322aae-1f9c-48d1-9270-04e7480defdf",
   "metadata": {},
   "outputs": [
    {
     "data": {
      "text/html": [
       "<div>\n",
       "<style scoped>\n",
       "    .dataframe tbody tr th:only-of-type {\n",
       "        vertical-align: middle;\n",
       "    }\n",
       "\n",
       "    .dataframe tbody tr th {\n",
       "        vertical-align: top;\n",
       "    }\n",
       "\n",
       "    .dataframe thead th {\n",
       "        text-align: right;\n",
       "    }\n",
       "</style>\n",
       "<table border=\"1\" class=\"dataframe\">\n",
       "  <thead>\n",
       "    <tr style=\"text-align: right;\">\n",
       "      <th></th>\n",
       "      <th>id</th>\n",
       "      <th>active</th>\n",
       "      <th>notification_cc_emails</th>\n",
       "      <th>created_by</th>\n",
       "      <th>created_at</th>\n",
       "      <th>updated_by</th>\n",
       "      <th>updated_at</th>\n",
       "      <th>first_name</th>\n",
       "      <th>last_name</th>\n",
       "      <th>email</th>\n",
       "      <th>...</th>\n",
       "      <th>logins_count</th>\n",
       "      <th>user_type</th>\n",
       "      <th>role</th>\n",
       "      <th>reminder_count</th>\n",
       "      <th>last_reminder_sent</th>\n",
       "      <th>enable_welcome_email</th>\n",
       "      <th>id.1</th>\n",
       "      <th>sales_org</th>\n",
       "      <th>customer_code</th>\n",
       "      <th>customer_name</th>\n",
       "    </tr>\n",
       "  </thead>\n",
       "  <tbody>\n",
       "  </tbody>\n",
       "</table>\n",
       "<p>0 rows × 38 columns</p>\n",
       "</div>"
      ],
      "text/plain": [
       "Empty DataFrame\n",
       "Columns: [id, active, notification_cc_emails, created_by, created_at, updated_by, updated_at, first_name, last_name, email, language, enable_monthly_invoice_report, customer_sales_orgs, monthly_invoice_report_sent, contact_number, country_code, date_format, time_format, number_format, time_zone, terms_and_conditions_accepted_date, enable_order_acknowledgement_email, enable_advance_shipment_notice, enable_payment_pre_reminder, enable_payment_alert, enable_immediate_order_update, never_authenticated, ship_to_parties, logins_count, user_type, role, reminder_count, last_reminder_sent, enable_welcome_email, id.1, sales_org, customer_code, customer_name]\n",
       "Index: []\n",
       "\n",
       "[0 rows x 38 columns]"
      ]
     },
     "execution_count": 225,
     "metadata": {},
     "output_type": "execute_result"
    }
   ],
   "source": [
    "users[users.user_type=='IN']"
   ]
  },
  {
   "cell_type": "code",
   "execution_count": 226,
   "id": "259120b8-06ce-4fa3-b2a8-a218409feddb",
   "metadata": {},
   "outputs": [
    {
     "data": {
      "text/html": [
       "<div>\n",
       "<style scoped>\n",
       "    .dataframe tbody tr th:only-of-type {\n",
       "        vertical-align: middle;\n",
       "    }\n",
       "\n",
       "    .dataframe tbody tr th {\n",
       "        vertical-align: top;\n",
       "    }\n",
       "\n",
       "    .dataframe thead th {\n",
       "        text-align: right;\n",
       "    }\n",
       "</style>\n",
       "<table border=\"1\" class=\"dataframe\">\n",
       "  <thead>\n",
       "    <tr style=\"text-align: right;\">\n",
       "      <th></th>\n",
       "      <th>id</th>\n",
       "      <th>active</th>\n",
       "      <th>notification_cc_emails</th>\n",
       "      <th>created_by</th>\n",
       "      <th>created_at</th>\n",
       "      <th>updated_by</th>\n",
       "      <th>updated_at</th>\n",
       "      <th>first_name</th>\n",
       "      <th>last_name</th>\n",
       "      <th>email</th>\n",
       "      <th>...</th>\n",
       "      <th>logins_count</th>\n",
       "      <th>user_type</th>\n",
       "      <th>role</th>\n",
       "      <th>reminder_count</th>\n",
       "      <th>last_reminder_sent</th>\n",
       "      <th>enable_welcome_email</th>\n",
       "      <th>id.1</th>\n",
       "      <th>sales_org</th>\n",
       "      <th>customer_code</th>\n",
       "      <th>customer_name</th>\n",
       "    </tr>\n",
       "  </thead>\n",
       "  <tbody>\n",
       "    <tr>\n",
       "      <th>2</th>\n",
       "      <td>auth0|5b28aeaf0cbf6f1e2bec50eb</td>\n",
       "      <td>True</td>\n",
       "      <td>[\"hien.nguyentt@coats.com\", \"ngocnhan@ducthanh...</td>\n",
       "      <td>migrated</td>\n",
       "      <td>2018-06-19 12:49:49.136 +0530</td>\n",
       "      <td>auth0-user-sync-process</td>\n",
       "      <td>2021-12-10 17:10:58.110 +0530</td>\n",
       "      <td>Mr</td>\n",
       "      <td>Tra</td>\n",
       "      <td>phuoctra@ducthanhkl.com.vn</td>\n",
       "      <td>...</td>\n",
       "      <td>11</td>\n",
       "      <td>EX</td>\n",
       "      <td>USR</td>\n",
       "      <td>0</td>\n",
       "      <td>NaN</td>\n",
       "      <td>True</td>\n",
       "      <td>auth0|5b28aeaf0cbf6f1e2bec50eb</td>\n",
       "      <td>VN50</td>\n",
       "      <td>119310</td>\n",
       "      <td>CTY TNHH MAY XNK DUC THANH 2</td>\n",
       "    </tr>\n",
       "    <tr>\n",
       "      <th>5</th>\n",
       "      <td>auth0|5b4ee604fc239962a3710960</td>\n",
       "      <td>True</td>\n",
       "      <td>[\"Dep.HUYNH@coats.com\", \"buithibichngoc@trista...</td>\n",
       "      <td>migrated</td>\n",
       "      <td>2018-07-18 12:32:28.439 +0530</td>\n",
       "      <td>auth0-user-sync-process</td>\n",
       "      <td>2021-11-16 18:30:12.875 +0530</td>\n",
       "      <td>Anh</td>\n",
       "      <td>Huynh Le Bao</td>\n",
       "      <td>huynhlebaoanh@tristateww.com</td>\n",
       "      <td>...</td>\n",
       "      <td>18</td>\n",
       "      <td>EX</td>\n",
       "      <td>USR</td>\n",
       "      <td>0</td>\n",
       "      <td>NaN</td>\n",
       "      <td>True</td>\n",
       "      <td>auth0|5b4ee604fc239962a3710960</td>\n",
       "      <td>VN50</td>\n",
       "      <td>148289</td>\n",
       "      <td>CÔNG TY TNHH SẢN XUẤT UPGAIN (VIỆT NAM) 0% VAT</td>\n",
       "    </tr>\n",
       "    <tr>\n",
       "      <th>6</th>\n",
       "      <td>auth0|5bfe5359598e1c11a8a15f30</td>\n",
       "      <td>True</td>\n",
       "      <td>[\"hoa.ho@coats.com\"]</td>\n",
       "      <td>migrated</td>\n",
       "      <td>2018-11-28 14:05:37.591 +0530</td>\n",
       "      <td>auth0-user-sync-process</td>\n",
       "      <td>2021-11-16 18:30:12.912 +0530</td>\n",
       "      <td>Nguyen Thi Ngoc Thuy</td>\n",
       "      <td>--</td>\n",
       "      <td>nguyenthingocthuy@tristateww.com</td>\n",
       "      <td>...</td>\n",
       "      <td>19</td>\n",
       "      <td>EX</td>\n",
       "      <td>USR</td>\n",
       "      <td>0</td>\n",
       "      <td>NaN</td>\n",
       "      <td>True</td>\n",
       "      <td>auth0|5bfe5359598e1c11a8a15f30</td>\n",
       "      <td>VN50</td>\n",
       "      <td>148289</td>\n",
       "      <td>CÔNG TY TNHH SẢN XUẤT UPGAIN (VIỆT NAM) 0% VAT</td>\n",
       "    </tr>\n",
       "    <tr>\n",
       "      <th>7</th>\n",
       "      <td>auth0|611a5421390ec4006983d3ee</td>\n",
       "      <td>True</td>\n",
       "      <td>[\"hoa.ho@coats.com\", \"huong.th.pham@coats.com\"]</td>\n",
       "      <td>migrated</td>\n",
       "      <td>2021-08-16 17:33:45.097 +0530</td>\n",
       "      <td>auth0-user-sync-process</td>\n",
       "      <td>2021-12-27 09:30:08.964 +0530</td>\n",
       "      <td>Mr</td>\n",
       "      <td>Thuan</td>\n",
       "      <td>thuanntec@tienthuan.com.vn</td>\n",
       "      <td>...</td>\n",
       "      <td>34</td>\n",
       "      <td>EX</td>\n",
       "      <td>USR</td>\n",
       "      <td>0</td>\n",
       "      <td>NaN</td>\n",
       "      <td>True</td>\n",
       "      <td>auth0|611a5421390ec4006983d3ee</td>\n",
       "      <td>VN50</td>\n",
       "      <td>119320</td>\n",
       "      <td>CONG TY TNHH MAY TIEN THUAN</td>\n",
       "    </tr>\n",
       "    <tr>\n",
       "      <th>9</th>\n",
       "      <td>auth0|611ba581bf348b006bb548c9</td>\n",
       "      <td>True</td>\n",
       "      <td>[\"lan.pham@coats.com\"]</td>\n",
       "      <td>migrated</td>\n",
       "      <td>2021-08-17 17:33:13.739 +0530</td>\n",
       "      <td>auth0-user-sync-process</td>\n",
       "      <td>2021-12-15 14:30:05.968 +0530</td>\n",
       "      <td>Thắng</td>\n",
       "      <td>Huỳnh Văn</td>\n",
       "      <td>dnthangloi@gmail.com</td>\n",
       "      <td>...</td>\n",
       "      <td>15</td>\n",
       "      <td>EX</td>\n",
       "      <td>USR</td>\n",
       "      <td>0</td>\n",
       "      <td>NaN</td>\n",
       "      <td>True</td>\n",
       "      <td>auth0|611ba581bf348b006bb548c9</td>\n",
       "      <td>VN50</td>\n",
       "      <td>404485</td>\n",
       "      <td>DOANH NGHIỆP TƯ NHÂN THẮNG LỢI</td>\n",
       "    </tr>\n",
       "    <tr>\n",
       "      <th>10</th>\n",
       "      <td>auth0|611ba5872420250069c6fe54</td>\n",
       "      <td>True</td>\n",
       "      <td>[\"Hien.NGUYENTT@coats.com\", \"huong.th.pham@coa...</td>\n",
       "      <td>migrated</td>\n",
       "      <td>2021-08-17 17:33:19.198 +0530</td>\n",
       "      <td>auth0-user-sync-process</td>\n",
       "      <td>2021-12-27 07:30:10.718 +0530</td>\n",
       "      <td>Hang</td>\n",
       "      <td>Nguyen</td>\n",
       "      <td>hangnt@sonkimmt.com.vn</td>\n",
       "      <td>...</td>\n",
       "      <td>110</td>\n",
       "      <td>EX</td>\n",
       "      <td>USR</td>\n",
       "      <td>0</td>\n",
       "      <td>NaN</td>\n",
       "      <td>True</td>\n",
       "      <td>auth0|611ba5872420250069c6fe54</td>\n",
       "      <td>VN50</td>\n",
       "      <td>404551</td>\n",
       "      <td>SON KIM MANUFACTURING TRADING CORPORATION</td>\n",
       "    </tr>\n",
       "    <tr>\n",
       "      <th>11</th>\n",
       "      <td>auth0|611cf52cbde6b80068060292</td>\n",
       "      <td>True</td>\n",
       "      <td>[\"lan.pham@coats.com\"]</td>\n",
       "      <td>migrated</td>\n",
       "      <td>2021-08-18 17:25:24.668 +0530</td>\n",
       "      <td>auth0-user-sync-process</td>\n",
       "      <td>2021-11-24 13:30:03.179 +0530</td>\n",
       "      <td>My</td>\n",
       "      <td>Phan</td>\n",
       "      <td>my.phan@un-available.net</td>\n",
       "      <td>...</td>\n",
       "      <td>14</td>\n",
       "      <td>EX</td>\n",
       "      <td>USR</td>\n",
       "      <td>0</td>\n",
       "      <td>NaN</td>\n",
       "      <td>True</td>\n",
       "      <td>auth0|611cf52cbde6b80068060292</td>\n",
       "      <td>VN50</td>\n",
       "      <td>120652</td>\n",
       "      <td>CONG TY TNHH UN-AVAILABLE</td>\n",
       "    </tr>\n",
       "    <tr>\n",
       "      <th>38</th>\n",
       "      <td>auth0|5e5393af3ef7000e8ce81e6e</td>\n",
       "      <td>True</td>\n",
       "      <td>[\"tuyen.nguyen@coats.com\"]</td>\n",
       "      <td>migrated</td>\n",
       "      <td>2020-02-24 14:43:19.856 +0530</td>\n",
       "      <td>auth0-user-sync-process</td>\n",
       "      <td>2021-12-27 10:30:07.504 +0530</td>\n",
       "      <td>Hai</td>\n",
       "      <td>Nguyen</td>\n",
       "      <td>hai.nguyen@klf-group.com</td>\n",
       "      <td>...</td>\n",
       "      <td>106</td>\n",
       "      <td>EX</td>\n",
       "      <td>USR</td>\n",
       "      <td>0</td>\n",
       "      <td>NaN</td>\n",
       "      <td>True</td>\n",
       "      <td>auth0|5e5393af3ef7000e8ce81e6e</td>\n",
       "      <td>VN50</td>\n",
       "      <td>119306</td>\n",
       "      <td>CONG TY TNHH MAY MAC TOPTEX</td>\n",
       "    </tr>\n",
       "    <tr>\n",
       "      <th>41</th>\n",
       "      <td>auth0|611a542a3ae8e50069658bd7</td>\n",
       "      <td>True</td>\n",
       "      <td>[\"thu.ngoc@coats.com\", \"van.purchase01@vastapp...</td>\n",
       "      <td>migrated</td>\n",
       "      <td>2021-08-16 17:33:54.845 +0530</td>\n",
       "      <td>auth0-user-sync-process</td>\n",
       "      <td>2021-12-24 15:30:05.988 +0530</td>\n",
       "      <td>Ho Thi</td>\n",
       "      <td>Thien</td>\n",
       "      <td>thien.ho@vastapparelvn.com.vn</td>\n",
       "      <td>...</td>\n",
       "      <td>38</td>\n",
       "      <td>EX</td>\n",
       "      <td>USR</td>\n",
       "      <td>0</td>\n",
       "      <td>NaN</td>\n",
       "      <td>True</td>\n",
       "      <td>auth0|611a542a3ae8e50069658bd7</td>\n",
       "      <td>VN50</td>\n",
       "      <td>142138</td>\n",
       "      <td>CÔNG TY TNHH MTV VAST APPAREL VIỆT NAM</td>\n",
       "    </tr>\n",
       "    <tr>\n",
       "      <th>57</th>\n",
       "      <td>auth0|614088c61780e5006abb62e2</td>\n",
       "      <td>True</td>\n",
       "      <td>[\"hien.nguyentt@coats.com\", \"hientp@thanhcong....</td>\n",
       "      <td>migrated</td>\n",
       "      <td>2021-09-14 17:04:30.904 +0530</td>\n",
       "      <td>auth0-user-sync-process</td>\n",
       "      <td>2021-12-27 09:30:08.995 +0530</td>\n",
       "      <td>Thanh</td>\n",
       "      <td>Hiền</td>\n",
       "      <td>hienttt@thanhcong.com.vn</td>\n",
       "      <td>...</td>\n",
       "      <td>28</td>\n",
       "      <td>EX</td>\n",
       "      <td>USR</td>\n",
       "      <td>0</td>\n",
       "      <td>NaN</td>\n",
       "      <td>True</td>\n",
       "      <td>auth0|614088c61780e5006abb62e2</td>\n",
       "      <td>VN50</td>\n",
       "      <td>119401</td>\n",
       "      <td>CTY CP DET MAY DTTM THANH CONG</td>\n",
       "    </tr>\n",
       "    <tr>\n",
       "      <th>68</th>\n",
       "      <td>auth0|6143351440e735007113ab55</td>\n",
       "      <td>True</td>\n",
       "      <td>[\"tuyen.nguyen@coats.com\", \"lyna.pei01@eclat.c...</td>\n",
       "      <td>migrated</td>\n",
       "      <td>2021-09-16 17:44:13.007 +0530</td>\n",
       "      <td>auth0-user-sync-process</td>\n",
       "      <td>2021-12-24 14:30:07.032 +0530</td>\n",
       "      <td>Thanh Giang</td>\n",
       "      <td>979082251</td>\n",
       "      <td>thanh.giang@eclat.com.tw</td>\n",
       "      <td>...</td>\n",
       "      <td>29</td>\n",
       "      <td>EX</td>\n",
       "      <td>USR</td>\n",
       "      <td>4</td>\n",
       "      <td>NaN</td>\n",
       "      <td>True</td>\n",
       "      <td>auth0|6143351440e735007113ab55</td>\n",
       "      <td>VN50</td>\n",
       "      <td>404129</td>\n",
       "      <td>CÔNG TY TNHH COLLTEX (VN)</td>\n",
       "    </tr>\n",
       "    <tr>\n",
       "      <th>69</th>\n",
       "      <td>auth0|615ac373b8e7cc006addbc58</td>\n",
       "      <td>True</td>\n",
       "      <td>[\"Dep.HUYNH@coats.com\", \"Thuy.vn@bodynits.com\"...</td>\n",
       "      <td>migrated</td>\n",
       "      <td>2021-10-04 14:33:47.174 +0530</td>\n",
       "      <td>auth0-user-sync-process</td>\n",
       "      <td>2021-12-19 10:30:12.349 +0530</td>\n",
       "      <td>Camy</td>\n",
       "      <td>Nguyen</td>\n",
       "      <td>jenny.vn@bodynits.com</td>\n",
       "      <td>...</td>\n",
       "      <td>15</td>\n",
       "      <td>EX</td>\n",
       "      <td>USR</td>\n",
       "      <td>0</td>\n",
       "      <td>NaN</td>\n",
       "      <td>True</td>\n",
       "      <td>auth0|615ac373b8e7cc006addbc58</td>\n",
       "      <td>VN50</td>\n",
       "      <td>119381</td>\n",
       "      <td>CTY LIEN DOANH AN THANH (TNHH)</td>\n",
       "    </tr>\n",
       "    <tr>\n",
       "      <th>80</th>\n",
       "      <td>auth0|615bd889be378400718c2c70</td>\n",
       "      <td>True</td>\n",
       "      <td>[\"dep.huynh@coats.com\"]</td>\n",
       "      <td>auth0|5afbb6f0ef616b7c9f68ed20</td>\n",
       "      <td>2021-10-05 10:16:01.960 +0530</td>\n",
       "      <td>auth0-user-sync-process</td>\n",
       "      <td>2021-12-23 14:30:11.368 +0530</td>\n",
       "      <td>Misun</td>\n",
       "      <td>Kim</td>\n",
       "      <td>mskim@d01.com</td>\n",
       "      <td>...</td>\n",
       "      <td>27</td>\n",
       "      <td>EX</td>\n",
       "      <td>USR</td>\n",
       "      <td>0</td>\n",
       "      <td>NaN</td>\n",
       "      <td>True</td>\n",
       "      <td>auth0|615bd889be378400718c2c70</td>\n",
       "      <td>VN50</td>\n",
       "      <td>146761</td>\n",
       "      <td>D01 CO., LTD</td>\n",
       "    </tr>\n",
       "    <tr>\n",
       "      <th>97</th>\n",
       "      <td>auth0|6141d60e01c641006a527084</td>\n",
       "      <td>True</td>\n",
       "      <td>[\"austin.zeng@eclat.com.tw\", \"kieuoanh.phan@ec...</td>\n",
       "      <td>migrated</td>\n",
       "      <td>2021-09-15 16:46:30.896 +0530</td>\n",
       "      <td>auth0-user-sync-process</td>\n",
       "      <td>2021-12-22 14:30:04.994 +0530</td>\n",
       "      <td>Ms. Quỳnh</td>\n",
       "      <td>NaN</td>\n",
       "      <td>thao.quynh@eclat.com.tw</td>\n",
       "      <td>...</td>\n",
       "      <td>20</td>\n",
       "      <td>EX</td>\n",
       "      <td>USR</td>\n",
       "      <td>0</td>\n",
       "      <td>NaN</td>\n",
       "      <td>True</td>\n",
       "      <td>auth0|6141d60e01c641006a527084</td>\n",
       "      <td>VN50</td>\n",
       "      <td>130798</td>\n",
       "      <td>CONG TY TNHH E-TOP VN</td>\n",
       "    </tr>\n",
       "    <tr>\n",
       "      <th>140</th>\n",
       "      <td>auth0|61641efe2caee800716de3c5</td>\n",
       "      <td>True</td>\n",
       "      <td>[\"tmv29@tmv.com.vn\", \"tuyen.nguyen@coats.com\"]</td>\n",
       "      <td>migrated</td>\n",
       "      <td>2021-10-11 16:54:46.051 +0530</td>\n",
       "      <td>auth0-user-sync-process</td>\n",
       "      <td>2021-12-27 08:30:10.030 +0530</td>\n",
       "      <td>Ms Linh</td>\n",
       "      <td>0903 528 289</td>\n",
       "      <td>tmv3@tmv.com.vn</td>\n",
       "      <td>...</td>\n",
       "      <td>17</td>\n",
       "      <td>EX</td>\n",
       "      <td>USR</td>\n",
       "      <td>1</td>\n",
       "      <td>NaN</td>\n",
       "      <td>True</td>\n",
       "      <td>auth0|61641efe2caee800716de3c5</td>\n",
       "      <td>VN50</td>\n",
       "      <td>119293</td>\n",
       "      <td>CTY TNHH DET DONG MINH VIET NAM</td>\n",
       "    </tr>\n",
       "    <tr>\n",
       "      <th>143</th>\n",
       "      <td>auth0|61641f07150257007028e784</td>\n",
       "      <td>True</td>\n",
       "      <td>[\"thu.ngoc@coats.com\"]</td>\n",
       "      <td>migrated</td>\n",
       "      <td>2021-10-11 16:54:55.916 +0530</td>\n",
       "      <td>auth0-user-sync-process</td>\n",
       "      <td>2021-12-27 07:30:10.786 +0530</td>\n",
       "      <td>Thuy</td>\n",
       "      <td>Phan</td>\n",
       "      <td>phan.thuy@eclat.com.tw</td>\n",
       "      <td>...</td>\n",
       "      <td>34</td>\n",
       "      <td>EX</td>\n",
       "      <td>USR</td>\n",
       "      <td>2</td>\n",
       "      <td>2021-10-15 05:30:03.811 +0530</td>\n",
       "      <td>True</td>\n",
       "      <td>auth0|61641f07150257007028e784</td>\n",
       "      <td>VN50</td>\n",
       "      <td>124252</td>\n",
       "      <td>CONG TY TNHH DET MAY ECLAT VIETNAM</td>\n",
       "    </tr>\n",
       "    <tr>\n",
       "      <th>160</th>\n",
       "      <td>auth0|618bde498d4f40006980cd2b</td>\n",
       "      <td>True</td>\n",
       "      <td>[\"tran.phan@coats.com\"]</td>\n",
       "      <td>migrated</td>\n",
       "      <td>2021-11-10 20:29:21.025 +0530</td>\n",
       "      <td>auth0-user-sync-process</td>\n",
       "      <td>2021-12-24 07:30:04.366 +0530</td>\n",
       "      <td>Chau</td>\n",
       "      <td>Pham</td>\n",
       "      <td>phamchau@sdongnam.com</td>\n",
       "      <td>...</td>\n",
       "      <td>11</td>\n",
       "      <td>EX</td>\n",
       "      <td>USR</td>\n",
       "      <td>1</td>\n",
       "      <td>NaN</td>\n",
       "      <td>True</td>\n",
       "      <td>auth0|618bde498d4f40006980cd2b</td>\n",
       "      <td>VN50</td>\n",
       "      <td>144809</td>\n",
       "      <td>DNC CO.,LTD</td>\n",
       "    </tr>\n",
       "    <tr>\n",
       "      <th>237</th>\n",
       "      <td>auth0|61963d14aa6a67007212f93f</td>\n",
       "      <td>True</td>\n",
       "      <td>[\"hoa.ho@coats.com\"]</td>\n",
       "      <td>migrated</td>\n",
       "      <td>2021-11-18 17:16:28.303 +0530</td>\n",
       "      <td>auth0-user-sync-process</td>\n",
       "      <td>2021-12-20 07:30:12.151 +0530</td>\n",
       "      <td>Dieu</td>\n",
       "      <td>Dinh</td>\n",
       "      <td>dieu.dinhthi2506@gmail.com</td>\n",
       "      <td>...</td>\n",
       "      <td>11</td>\n",
       "      <td>EX</td>\n",
       "      <td>USR</td>\n",
       "      <td>1</td>\n",
       "      <td>NaN</td>\n",
       "      <td>True</td>\n",
       "      <td>auth0|61963d14aa6a67007212f93f</td>\n",
       "      <td>VN50</td>\n",
       "      <td>418495</td>\n",
       "      <td>HnC CO., LTD</td>\n",
       "    </tr>\n",
       "    <tr>\n",
       "      <th>257</th>\n",
       "      <td>auth0|610a7f42edeb770072e10f80</td>\n",
       "      <td>True</td>\n",
       "      <td>[\"hoa.ho@coats.com\", \"vancth@anhuco.com\", \"huo...</td>\n",
       "      <td>migrated</td>\n",
       "      <td>2021-08-04 17:21:30.785 +0530</td>\n",
       "      <td>auth0-user-sync-process</td>\n",
       "      <td>2021-12-23 14:30:11.357 +0530</td>\n",
       "      <td>Phuong</td>\n",
       "      <td>Nu</td>\n",
       "      <td>phuongnu@anhuco.com</td>\n",
       "      <td>...</td>\n",
       "      <td>25</td>\n",
       "      <td>EX</td>\n",
       "      <td>USR</td>\n",
       "      <td>0</td>\n",
       "      <td>NaN</td>\n",
       "      <td>False</td>\n",
       "      <td>auth0|610a7f42edeb770072e10f80</td>\n",
       "      <td>VN50</td>\n",
       "      <td>119729</td>\n",
       "      <td>CÔNG TY CỔ PHẦN AN HƯNG</td>\n",
       "    </tr>\n",
       "    <tr>\n",
       "      <th>574</th>\n",
       "      <td>auth0|6164069b560d9b00686fc8da</td>\n",
       "      <td>True</td>\n",
       "      <td>[\"hoa.ho@coats.com\", \"huongct@anhuco.com\"]</td>\n",
       "      <td>auth0|5afbb6f0ef616b7c9f68ed20</td>\n",
       "      <td>2021-10-11 15:10:43.788 +0530</td>\n",
       "      <td>auth0-user-sync-process</td>\n",
       "      <td>2021-12-21 08:30:06.275 +0530</td>\n",
       "      <td>Trang</td>\n",
       "      <td>VT</td>\n",
       "      <td>trangvt@anhuco.com</td>\n",
       "      <td>...</td>\n",
       "      <td>39</td>\n",
       "      <td>EX</td>\n",
       "      <td>USR</td>\n",
       "      <td>1</td>\n",
       "      <td>NaN</td>\n",
       "      <td>True</td>\n",
       "      <td>auth0|6164069b560d9b00686fc8da</td>\n",
       "      <td>VN50</td>\n",
       "      <td>119729</td>\n",
       "      <td>CÔNG TY CỔ PHẦN AN HƯNG</td>\n",
       "    </tr>\n",
       "    <tr>\n",
       "      <th>824</th>\n",
       "      <td>auth0|60f80e333cd751006900f001</td>\n",
       "      <td>True</td>\n",
       "      <td>[\"thuy.vo@coats.com\"]</td>\n",
       "      <td>migrated</td>\n",
       "      <td>2021-07-21 17:38:19.032 +0530</td>\n",
       "      <td>auth0-user-sync-process</td>\n",
       "      <td>2021-12-27 09:30:08.926 +0530</td>\n",
       "      <td>Vu</td>\n",
       "      <td>Hoang-PPG</td>\n",
       "      <td>phongphugiaco.ltd@gmail.com</td>\n",
       "      <td>...</td>\n",
       "      <td>114</td>\n",
       "      <td>EX</td>\n",
       "      <td>USR</td>\n",
       "      <td>0</td>\n",
       "      <td>NaN</td>\n",
       "      <td>True</td>\n",
       "      <td>auth0|60f80e333cd751006900f001</td>\n",
       "      <td>VN50</td>\n",
       "      <td>120677</td>\n",
       "      <td>CÔNG TY TNHH THƯƠNG MẠI PHONG PHÚ GIA</td>\n",
       "    </tr>\n",
       "    <tr>\n",
       "      <th>825</th>\n",
       "      <td>auth0|60f8e5dc838de9006a987e49</td>\n",
       "      <td>False</td>\n",
       "      <td>[]</td>\n",
       "      <td>auth0|60e6a60ff5e85d006bf26744</td>\n",
       "      <td>2021-07-22 08:58:28.793 +0530</td>\n",
       "      <td>auth0-user-sync-process</td>\n",
       "      <td>2021-11-05 16:30:09.419 +0530</td>\n",
       "      <td>vn name</td>\n",
       "      <td>test</td>\n",
       "      <td>vn@mailinator.com</td>\n",
       "      <td>...</td>\n",
       "      <td>25</td>\n",
       "      <td>EX</td>\n",
       "      <td>USR</td>\n",
       "      <td>0</td>\n",
       "      <td>NaN</td>\n",
       "      <td>False</td>\n",
       "      <td>auth0|60f8e5dc838de9006a987e49</td>\n",
       "      <td>VN50</td>\n",
       "      <td>120677</td>\n",
       "      <td>CÔNG TY TNHH THƯƠNG MẠI PHONG PHÚ GIA</td>\n",
       "    </tr>\n",
       "    <tr>\n",
       "      <th>828</th>\n",
       "      <td>auth0|61111f58621f9600684f5cbe</td>\n",
       "      <td>True</td>\n",
       "      <td>[\"thu.ngoc@coats.com\"]</td>\n",
       "      <td>migrated</td>\n",
       "      <td>2021-08-09 17:58:09.010 +0530</td>\n",
       "      <td>auth0-user-sync-process</td>\n",
       "      <td>2021-12-25 05:30:12.262 +0530</td>\n",
       "      <td>Duy</td>\n",
       "      <td>Tu</td>\n",
       "      <td>dinhduytu83@gmail.com</td>\n",
       "      <td>...</td>\n",
       "      <td>17</td>\n",
       "      <td>EX</td>\n",
       "      <td>USR</td>\n",
       "      <td>0</td>\n",
       "      <td>NaN</td>\n",
       "      <td>True</td>\n",
       "      <td>auth0|61111f58621f9600684f5cbe</td>\n",
       "      <td>VN50</td>\n",
       "      <td>119514</td>\n",
       "      <td>CTY TNHH PHU TUONG</td>\n",
       "    </tr>\n",
       "    <tr>\n",
       "      <th>841</th>\n",
       "      <td>auth0|611cf526401a000076c62e54</td>\n",
       "      <td>True</td>\n",
       "      <td>[\"hoa.ho@coats.com\"]</td>\n",
       "      <td>migrated</td>\n",
       "      <td>2021-08-18 17:25:18.695 +0530</td>\n",
       "      <td>auth0-user-sync-process</td>\n",
       "      <td>2021-12-21 08:30:06.169 +0530</td>\n",
       "      <td>Ái Vy</td>\n",
       "      <td>0935 793 322</td>\n",
       "      <td>vy@dsp-lingerie.biz</td>\n",
       "      <td>...</td>\n",
       "      <td>36</td>\n",
       "      <td>EX</td>\n",
       "      <td>USR</td>\n",
       "      <td>0</td>\n",
       "      <td>NaN</td>\n",
       "      <td>True</td>\n",
       "      <td>auth0|611cf526401a000076c62e54</td>\n",
       "      <td>VN50</td>\n",
       "      <td>134426</td>\n",
       "      <td>CONG TY TNHH DESIPER VIET NAM</td>\n",
       "    </tr>\n",
       "    <tr>\n",
       "      <th>860</th>\n",
       "      <td>auth0|6141d60027ab250069a79ae8</td>\n",
       "      <td>True</td>\n",
       "      <td>[\"thuy.vo@coats.com\", \"mya.le@vn.asmaragroup.c...</td>\n",
       "      <td>migrated</td>\n",
       "      <td>2021-09-15 16:46:16.499 +0530</td>\n",
       "      <td>auth0-user-sync-process</td>\n",
       "      <td>2021-12-15 10:30:09.546 +0530</td>\n",
       "      <td>Kate</td>\n",
       "      <td>Nghiem 0769 707 909</td>\n",
       "      <td>kate.nghiem@vn.asmaragroup.com</td>\n",
       "      <td>...</td>\n",
       "      <td>14</td>\n",
       "      <td>EX</td>\n",
       "      <td>USR</td>\n",
       "      <td>0</td>\n",
       "      <td>NaN</td>\n",
       "      <td>True</td>\n",
       "      <td>auth0|6141d60027ab250069a79ae8</td>\n",
       "      <td>VN50</td>\n",
       "      <td>129893</td>\n",
       "      <td>ASMARA INTERNATIONAL LTD(VIETNAM REP.OFFICE)</td>\n",
       "    </tr>\n",
       "    <tr>\n",
       "      <th>863</th>\n",
       "      <td>auth0|6143350f52787f0069713ac6</td>\n",
       "      <td>True</td>\n",
       "      <td>[\"thanh.trantt@coats.com\"]</td>\n",
       "      <td>migrated</td>\n",
       "      <td>2021-09-16 17:44:07.905 +0530</td>\n",
       "      <td>auth0-user-sync-process</td>\n",
       "      <td>2021-12-10 17:11:00.452 +0530</td>\n",
       "      <td>Ms</td>\n",
       "      <td>Quỳnh 01665884544 (Korea Cust)</td>\n",
       "      <td>jnhvina2012@gmail.com</td>\n",
       "      <td>...</td>\n",
       "      <td>50</td>\n",
       "      <td>EX</td>\n",
       "      <td>USR</td>\n",
       "      <td>0</td>\n",
       "      <td>NaN</td>\n",
       "      <td>True</td>\n",
       "      <td>auth0|6143350f52787f0069713ac6</td>\n",
       "      <td>VN50</td>\n",
       "      <td>139782</td>\n",
       "      <td>CÔNG TY TNHH J&amp;H VINA</td>\n",
       "    </tr>\n",
       "    <tr>\n",
       "      <th>864</th>\n",
       "      <td>auth0|61545150b8e7cc006aa62c30</td>\n",
       "      <td>True</td>\n",
       "      <td>[\"thu.ngoc@coats.com\", \"Anh.LAN@coats.com\"]</td>\n",
       "      <td>migrated</td>\n",
       "      <td>2021-09-29 17:13:13.001 +0530</td>\n",
       "      <td>auth0-user-sync-process</td>\n",
       "      <td>2021-12-27 09:30:08.906 +0530</td>\n",
       "      <td>Dinh</td>\n",
       "      <td>Duy Phu</td>\n",
       "      <td>dinhduyphu90@gmail.com</td>\n",
       "      <td>...</td>\n",
       "      <td>12</td>\n",
       "      <td>EX</td>\n",
       "      <td>USR</td>\n",
       "      <td>0</td>\n",
       "      <td>NaN</td>\n",
       "      <td>True</td>\n",
       "      <td>auth0|61545150b8e7cc006aa62c30</td>\n",
       "      <td>VN50</td>\n",
       "      <td>136174</td>\n",
       "      <td>CÔNG TY TNHH MAY PHÚ TƯỜNG</td>\n",
       "    </tr>\n",
       "    <tr>\n",
       "      <th>869</th>\n",
       "      <td>auth0|615d56e79deb4e006965a675</td>\n",
       "      <td>True</td>\n",
       "      <td>[\"stock.vn@l-t-p.com\", \"dep.huynh@coats.com\"]</td>\n",
       "      <td>auth0|5afbb6f0ef616b7c9f68ed20</td>\n",
       "      <td>2021-10-06 13:27:27.606 +0530</td>\n",
       "      <td>auth0-user-sync-process</td>\n",
       "      <td>2021-12-25 07:30:09.628 +0530</td>\n",
       "      <td>Alice</td>\n",
       "      <td>Tran</td>\n",
       "      <td>purchase.vn@ltpgroup.com</td>\n",
       "      <td>...</td>\n",
       "      <td>79</td>\n",
       "      <td>EX</td>\n",
       "      <td>USR</td>\n",
       "      <td>0</td>\n",
       "      <td>NaN</td>\n",
       "      <td>True</td>\n",
       "      <td>auth0|615d56e79deb4e006965a675</td>\n",
       "      <td>VN50</td>\n",
       "      <td>133189</td>\n",
       "      <td>CÔNG TY TNHH LTP VIỆT NAM</td>\n",
       "    </tr>\n",
       "    <tr>\n",
       "      <th>874</th>\n",
       "      <td>auth0|615edf1b25167900699fe2a5</td>\n",
       "      <td>True</td>\n",
       "      <td>[\"thu.ngoc@coats.com\"]</td>\n",
       "      <td>migrated</td>\n",
       "      <td>2021-10-07 17:20:51.962 +0530</td>\n",
       "      <td>auth0-user-sync-process</td>\n",
       "      <td>2021-12-27 08:30:10.016 +0530</td>\n",
       "      <td>Ms</td>\n",
       "      <td>Phuong</td>\n",
       "      <td>phuong.tran@tuandat.com.vn</td>\n",
       "      <td>...</td>\n",
       "      <td>11</td>\n",
       "      <td>EX</td>\n",
       "      <td>USR</td>\n",
       "      <td>0</td>\n",
       "      <td>NaN</td>\n",
       "      <td>True</td>\n",
       "      <td>auth0|615edf1b25167900699fe2a5</td>\n",
       "      <td>VN50</td>\n",
       "      <td>119458</td>\n",
       "      <td>CONG TY TNHH TUAN DAT</td>\n",
       "    </tr>\n",
       "    <tr>\n",
       "      <th>880</th>\n",
       "      <td>auth0|615edfb604e61a0071093f58</td>\n",
       "      <td>True</td>\n",
       "      <td>[\"thu.ngoc@coats.com\", \"Anh.LAN@coats.com\"]</td>\n",
       "      <td>migrated</td>\n",
       "      <td>2021-10-07 17:23:26.583 +0530</td>\n",
       "      <td>auth0-user-sync-process</td>\n",
       "      <td>2021-12-24 15:30:06.001 +0530</td>\n",
       "      <td>Ms Tâm</td>\n",
       "      <td>702519716</td>\n",
       "      <td>tamptt@hoatho.com.vn</td>\n",
       "      <td>...</td>\n",
       "      <td>15</td>\n",
       "      <td>EX</td>\n",
       "      <td>USR</td>\n",
       "      <td>0</td>\n",
       "      <td>NaN</td>\n",
       "      <td>True</td>\n",
       "      <td>auth0|615edfb604e61a0071093f58</td>\n",
       "      <td>VN50</td>\n",
       "      <td>139376</td>\n",
       "      <td>CN TCTY CP DỆT MAY HOÀ THỌ - CÔNG TY MAY HOÀ T...</td>\n",
       "    </tr>\n",
       "    <tr>\n",
       "      <th>884</th>\n",
       "      <td>auth0|616d383af4c52c006878a207</td>\n",
       "      <td>True</td>\n",
       "      <td>[\"thanh.trantt@coats.com\", \"van.pham@coats.com...</td>\n",
       "      <td>migrated</td>\n",
       "      <td>2021-10-18 14:32:50.283 +0530</td>\n",
       "      <td>auth0-user-sync-process</td>\n",
       "      <td>2021-12-23 08:30:06.916 +0530</td>\n",
       "      <td>Mr Long</td>\n",
       "      <td>01672305821</td>\n",
       "      <td>bmigkdtt@gmail.com</td>\n",
       "      <td>...</td>\n",
       "      <td>23</td>\n",
       "      <td>EX</td>\n",
       "      <td>USR</td>\n",
       "      <td>1</td>\n",
       "      <td>NaN</td>\n",
       "      <td>True</td>\n",
       "      <td>auth0|616d383af4c52c006878a207</td>\n",
       "      <td>VN50</td>\n",
       "      <td>119298</td>\n",
       "      <td>CTY CO PHAN MAY BINH MINH (VN50)</td>\n",
       "    </tr>\n",
       "    <tr>\n",
       "      <th>973</th>\n",
       "      <td>auth0|61a75b4f359877007131c40e</td>\n",
       "      <td>True</td>\n",
       "      <td>[]</td>\n",
       "      <td>migrated</td>\n",
       "      <td>2021-12-01 16:53:59.957 +0530</td>\n",
       "      <td>auth0-user-sync-process</td>\n",
       "      <td>2021-12-27 08:30:09.971 +0530</td>\n",
       "      <td>Tuyet Mai</td>\n",
       "      <td>(Ms)</td>\n",
       "      <td>tuyetmai215@gmail.com</td>\n",
       "      <td>...</td>\n",
       "      <td>32</td>\n",
       "      <td>EX</td>\n",
       "      <td>USR</td>\n",
       "      <td>1</td>\n",
       "      <td>NaN</td>\n",
       "      <td>True</td>\n",
       "      <td>auth0|61a75b4f359877007131c40e</td>\n",
       "      <td>VN50</td>\n",
       "      <td>119370</td>\n",
       "      <td>CONG TY TNHH HIKOSEN CARA</td>\n",
       "    </tr>\n",
       "  </tbody>\n",
       "</table>\n",
       "<p>32 rows × 38 columns</p>\n",
       "</div>"
      ],
      "text/plain": [
       "                                 id  active  \\\n",
       "2    auth0|5b28aeaf0cbf6f1e2bec50eb    True   \n",
       "5    auth0|5b4ee604fc239962a3710960    True   \n",
       "6    auth0|5bfe5359598e1c11a8a15f30    True   \n",
       "7    auth0|611a5421390ec4006983d3ee    True   \n",
       "9    auth0|611ba581bf348b006bb548c9    True   \n",
       "10   auth0|611ba5872420250069c6fe54    True   \n",
       "11   auth0|611cf52cbde6b80068060292    True   \n",
       "38   auth0|5e5393af3ef7000e8ce81e6e    True   \n",
       "41   auth0|611a542a3ae8e50069658bd7    True   \n",
       "57   auth0|614088c61780e5006abb62e2    True   \n",
       "68   auth0|6143351440e735007113ab55    True   \n",
       "69   auth0|615ac373b8e7cc006addbc58    True   \n",
       "80   auth0|615bd889be378400718c2c70    True   \n",
       "97   auth0|6141d60e01c641006a527084    True   \n",
       "140  auth0|61641efe2caee800716de3c5    True   \n",
       "143  auth0|61641f07150257007028e784    True   \n",
       "160  auth0|618bde498d4f40006980cd2b    True   \n",
       "237  auth0|61963d14aa6a67007212f93f    True   \n",
       "257  auth0|610a7f42edeb770072e10f80    True   \n",
       "574  auth0|6164069b560d9b00686fc8da    True   \n",
       "824  auth0|60f80e333cd751006900f001    True   \n",
       "825  auth0|60f8e5dc838de9006a987e49   False   \n",
       "828  auth0|61111f58621f9600684f5cbe    True   \n",
       "841  auth0|611cf526401a000076c62e54    True   \n",
       "860  auth0|6141d60027ab250069a79ae8    True   \n",
       "863  auth0|6143350f52787f0069713ac6    True   \n",
       "864  auth0|61545150b8e7cc006aa62c30    True   \n",
       "869  auth0|615d56e79deb4e006965a675    True   \n",
       "874  auth0|615edf1b25167900699fe2a5    True   \n",
       "880  auth0|615edfb604e61a0071093f58    True   \n",
       "884  auth0|616d383af4c52c006878a207    True   \n",
       "973  auth0|61a75b4f359877007131c40e    True   \n",
       "\n",
       "                                notification_cc_emails  \\\n",
       "2    [\"hien.nguyentt@coats.com\", \"ngocnhan@ducthanh...   \n",
       "5    [\"Dep.HUYNH@coats.com\", \"buithibichngoc@trista...   \n",
       "6                                 [\"hoa.ho@coats.com\"]   \n",
       "7      [\"hoa.ho@coats.com\", \"huong.th.pham@coats.com\"]   \n",
       "9                               [\"lan.pham@coats.com\"]   \n",
       "10   [\"Hien.NGUYENTT@coats.com\", \"huong.th.pham@coa...   \n",
       "11                              [\"lan.pham@coats.com\"]   \n",
       "38                          [\"tuyen.nguyen@coats.com\"]   \n",
       "41   [\"thu.ngoc@coats.com\", \"van.purchase01@vastapp...   \n",
       "57   [\"hien.nguyentt@coats.com\", \"hientp@thanhcong....   \n",
       "68   [\"tuyen.nguyen@coats.com\", \"lyna.pei01@eclat.c...   \n",
       "69   [\"Dep.HUYNH@coats.com\", \"Thuy.vn@bodynits.com\"...   \n",
       "80                             [\"dep.huynh@coats.com\"]   \n",
       "97   [\"austin.zeng@eclat.com.tw\", \"kieuoanh.phan@ec...   \n",
       "140     [\"tmv29@tmv.com.vn\", \"tuyen.nguyen@coats.com\"]   \n",
       "143                             [\"thu.ngoc@coats.com\"]   \n",
       "160                            [\"tran.phan@coats.com\"]   \n",
       "237                               [\"hoa.ho@coats.com\"]   \n",
       "257  [\"hoa.ho@coats.com\", \"vancth@anhuco.com\", \"huo...   \n",
       "574         [\"hoa.ho@coats.com\", \"huongct@anhuco.com\"]   \n",
       "824                              [\"thuy.vo@coats.com\"]   \n",
       "825                                                 []   \n",
       "828                             [\"thu.ngoc@coats.com\"]   \n",
       "841                               [\"hoa.ho@coats.com\"]   \n",
       "860  [\"thuy.vo@coats.com\", \"mya.le@vn.asmaragroup.c...   \n",
       "863                         [\"thanh.trantt@coats.com\"]   \n",
       "864        [\"thu.ngoc@coats.com\", \"Anh.LAN@coats.com\"]   \n",
       "869      [\"stock.vn@l-t-p.com\", \"dep.huynh@coats.com\"]   \n",
       "874                             [\"thu.ngoc@coats.com\"]   \n",
       "880        [\"thu.ngoc@coats.com\", \"Anh.LAN@coats.com\"]   \n",
       "884  [\"thanh.trantt@coats.com\", \"van.pham@coats.com...   \n",
       "973                                                 []   \n",
       "\n",
       "                         created_by                     created_at  \\\n",
       "2                          migrated  2018-06-19 12:49:49.136 +0530   \n",
       "5                          migrated  2018-07-18 12:32:28.439 +0530   \n",
       "6                          migrated  2018-11-28 14:05:37.591 +0530   \n",
       "7                          migrated  2021-08-16 17:33:45.097 +0530   \n",
       "9                          migrated  2021-08-17 17:33:13.739 +0530   \n",
       "10                         migrated  2021-08-17 17:33:19.198 +0530   \n",
       "11                         migrated  2021-08-18 17:25:24.668 +0530   \n",
       "38                         migrated  2020-02-24 14:43:19.856 +0530   \n",
       "41                         migrated  2021-08-16 17:33:54.845 +0530   \n",
       "57                         migrated  2021-09-14 17:04:30.904 +0530   \n",
       "68                         migrated  2021-09-16 17:44:13.007 +0530   \n",
       "69                         migrated  2021-10-04 14:33:47.174 +0530   \n",
       "80   auth0|5afbb6f0ef616b7c9f68ed20  2021-10-05 10:16:01.960 +0530   \n",
       "97                         migrated  2021-09-15 16:46:30.896 +0530   \n",
       "140                        migrated  2021-10-11 16:54:46.051 +0530   \n",
       "143                        migrated  2021-10-11 16:54:55.916 +0530   \n",
       "160                        migrated  2021-11-10 20:29:21.025 +0530   \n",
       "237                        migrated  2021-11-18 17:16:28.303 +0530   \n",
       "257                        migrated  2021-08-04 17:21:30.785 +0530   \n",
       "574  auth0|5afbb6f0ef616b7c9f68ed20  2021-10-11 15:10:43.788 +0530   \n",
       "824                        migrated  2021-07-21 17:38:19.032 +0530   \n",
       "825  auth0|60e6a60ff5e85d006bf26744  2021-07-22 08:58:28.793 +0530   \n",
       "828                        migrated  2021-08-09 17:58:09.010 +0530   \n",
       "841                        migrated  2021-08-18 17:25:18.695 +0530   \n",
       "860                        migrated  2021-09-15 16:46:16.499 +0530   \n",
       "863                        migrated  2021-09-16 17:44:07.905 +0530   \n",
       "864                        migrated  2021-09-29 17:13:13.001 +0530   \n",
       "869  auth0|5afbb6f0ef616b7c9f68ed20  2021-10-06 13:27:27.606 +0530   \n",
       "874                        migrated  2021-10-07 17:20:51.962 +0530   \n",
       "880                        migrated  2021-10-07 17:23:26.583 +0530   \n",
       "884                        migrated  2021-10-18 14:32:50.283 +0530   \n",
       "973                        migrated  2021-12-01 16:53:59.957 +0530   \n",
       "\n",
       "                  updated_by                     updated_at  \\\n",
       "2    auth0-user-sync-process  2021-12-10 17:10:58.110 +0530   \n",
       "5    auth0-user-sync-process  2021-11-16 18:30:12.875 +0530   \n",
       "6    auth0-user-sync-process  2021-11-16 18:30:12.912 +0530   \n",
       "7    auth0-user-sync-process  2021-12-27 09:30:08.964 +0530   \n",
       "9    auth0-user-sync-process  2021-12-15 14:30:05.968 +0530   \n",
       "10   auth0-user-sync-process  2021-12-27 07:30:10.718 +0530   \n",
       "11   auth0-user-sync-process  2021-11-24 13:30:03.179 +0530   \n",
       "38   auth0-user-sync-process  2021-12-27 10:30:07.504 +0530   \n",
       "41   auth0-user-sync-process  2021-12-24 15:30:05.988 +0530   \n",
       "57   auth0-user-sync-process  2021-12-27 09:30:08.995 +0530   \n",
       "68   auth0-user-sync-process  2021-12-24 14:30:07.032 +0530   \n",
       "69   auth0-user-sync-process  2021-12-19 10:30:12.349 +0530   \n",
       "80   auth0-user-sync-process  2021-12-23 14:30:11.368 +0530   \n",
       "97   auth0-user-sync-process  2021-12-22 14:30:04.994 +0530   \n",
       "140  auth0-user-sync-process  2021-12-27 08:30:10.030 +0530   \n",
       "143  auth0-user-sync-process  2021-12-27 07:30:10.786 +0530   \n",
       "160  auth0-user-sync-process  2021-12-24 07:30:04.366 +0530   \n",
       "237  auth0-user-sync-process  2021-12-20 07:30:12.151 +0530   \n",
       "257  auth0-user-sync-process  2021-12-23 14:30:11.357 +0530   \n",
       "574  auth0-user-sync-process  2021-12-21 08:30:06.275 +0530   \n",
       "824  auth0-user-sync-process  2021-12-27 09:30:08.926 +0530   \n",
       "825  auth0-user-sync-process  2021-11-05 16:30:09.419 +0530   \n",
       "828  auth0-user-sync-process  2021-12-25 05:30:12.262 +0530   \n",
       "841  auth0-user-sync-process  2021-12-21 08:30:06.169 +0530   \n",
       "860  auth0-user-sync-process  2021-12-15 10:30:09.546 +0530   \n",
       "863  auth0-user-sync-process  2021-12-10 17:11:00.452 +0530   \n",
       "864  auth0-user-sync-process  2021-12-27 09:30:08.906 +0530   \n",
       "869  auth0-user-sync-process  2021-12-25 07:30:09.628 +0530   \n",
       "874  auth0-user-sync-process  2021-12-27 08:30:10.016 +0530   \n",
       "880  auth0-user-sync-process  2021-12-24 15:30:06.001 +0530   \n",
       "884  auth0-user-sync-process  2021-12-23 08:30:06.916 +0530   \n",
       "973  auth0-user-sync-process  2021-12-27 08:30:09.971 +0530   \n",
       "\n",
       "                first_name                       last_name  \\\n",
       "2                       Mr                             Tra   \n",
       "5                      Anh                    Huynh Le Bao   \n",
       "6    Nguyen Thi Ngoc Thuy                               --   \n",
       "7                       Mr                           Thuan   \n",
       "9                    Thắng                       Huỳnh Văn   \n",
       "10                    Hang                          Nguyen   \n",
       "11                      My                            Phan   \n",
       "38                     Hai                          Nguyen   \n",
       "41                  Ho Thi                           Thien   \n",
       "57                   Thanh                            Hiền   \n",
       "68             Thanh Giang                       979082251   \n",
       "69                    Camy                         Nguyen    \n",
       "80                   Misun                             Kim   \n",
       "97               Ms. Quỳnh                             NaN   \n",
       "140                Ms Linh                    0903 528 289   \n",
       "143                   Thuy                            Phan   \n",
       "160                   Chau                            Pham   \n",
       "237                   Dieu                            Dinh   \n",
       "257                 Phuong                              Nu   \n",
       "574                  Trang                              VT   \n",
       "824                     Vu                       Hoang-PPG   \n",
       "825                vn name                            test   \n",
       "828                    Duy                              Tu   \n",
       "841                  Ái Vy                    0935 793 322   \n",
       "860                  Kate              Nghiem 0769 707 909   \n",
       "863                     Ms  Quỳnh 01665884544 (Korea Cust)   \n",
       "864                   Dinh                         Duy Phu   \n",
       "869                  Alice                            Tran   \n",
       "874                     Ms                          Phuong   \n",
       "880                Ms Tâm                        702519716   \n",
       "884                Mr Long                     01672305821   \n",
       "973              Tuyet Mai                            (Ms)   \n",
       "\n",
       "                                email  ... logins_count  user_type role  \\\n",
       "2          phuoctra@ducthanhkl.com.vn  ...           11         EX  USR   \n",
       "5        huynhlebaoanh@tristateww.com  ...           18         EX  USR   \n",
       "6    nguyenthingocthuy@tristateww.com  ...           19         EX  USR   \n",
       "7          thuanntec@tienthuan.com.vn  ...           34         EX  USR   \n",
       "9                dnthangloi@gmail.com  ...           15         EX  USR   \n",
       "10             hangnt@sonkimmt.com.vn  ...          110         EX  USR   \n",
       "11           my.phan@un-available.net  ...           14         EX  USR   \n",
       "38           hai.nguyen@klf-group.com  ...          106         EX  USR   \n",
       "41      thien.ho@vastapparelvn.com.vn  ...           38         EX  USR   \n",
       "57           hienttt@thanhcong.com.vn  ...           28         EX  USR   \n",
       "68           thanh.giang@eclat.com.tw  ...           29         EX  USR   \n",
       "69              jenny.vn@bodynits.com  ...           15         EX  USR   \n",
       "80                      mskim@d01.com  ...           27         EX  USR   \n",
       "97            thao.quynh@eclat.com.tw  ...           20         EX  USR   \n",
       "140                   tmv3@tmv.com.vn  ...           17         EX  USR   \n",
       "143            phan.thuy@eclat.com.tw  ...           34         EX  USR   \n",
       "160             phamchau@sdongnam.com  ...           11         EX  USR   \n",
       "237        dieu.dinhthi2506@gmail.com  ...           11         EX  USR   \n",
       "257               phuongnu@anhuco.com  ...           25         EX  USR   \n",
       "574                trangvt@anhuco.com  ...           39         EX  USR   \n",
       "824       phongphugiaco.ltd@gmail.com  ...          114         EX  USR   \n",
       "825                 vn@mailinator.com  ...           25         EX  USR   \n",
       "828             dinhduytu83@gmail.com  ...           17         EX  USR   \n",
       "841               vy@dsp-lingerie.biz  ...           36         EX  USR   \n",
       "860    kate.nghiem@vn.asmaragroup.com  ...           14         EX  USR   \n",
       "863             jnhvina2012@gmail.com  ...           50         EX  USR   \n",
       "864            dinhduyphu90@gmail.com  ...           12         EX  USR   \n",
       "869          purchase.vn@ltpgroup.com  ...           79         EX  USR   \n",
       "874        phuong.tran@tuandat.com.vn  ...           11         EX  USR   \n",
       "880              tamptt@hoatho.com.vn  ...           15         EX  USR   \n",
       "884                bmigkdtt@gmail.com  ...           23         EX  USR   \n",
       "973             tuyetmai215@gmail.com  ...           32         EX  USR   \n",
       "\n",
       "    reminder_count             last_reminder_sent enable_welcome_email  \\\n",
       "2                0                            NaN                 True   \n",
       "5                0                            NaN                 True   \n",
       "6                0                            NaN                 True   \n",
       "7                0                            NaN                 True   \n",
       "9                0                            NaN                 True   \n",
       "10               0                            NaN                 True   \n",
       "11               0                            NaN                 True   \n",
       "38               0                            NaN                 True   \n",
       "41               0                            NaN                 True   \n",
       "57               0                            NaN                 True   \n",
       "68               4                            NaN                 True   \n",
       "69               0                            NaN                 True   \n",
       "80               0                            NaN                 True   \n",
       "97               0                            NaN                 True   \n",
       "140              1                            NaN                 True   \n",
       "143              2  2021-10-15 05:30:03.811 +0530                 True   \n",
       "160              1                            NaN                 True   \n",
       "237              1                            NaN                 True   \n",
       "257              0                            NaN                False   \n",
       "574              1                            NaN                 True   \n",
       "824              0                            NaN                 True   \n",
       "825              0                            NaN                False   \n",
       "828              0                            NaN                 True   \n",
       "841              0                            NaN                 True   \n",
       "860              0                            NaN                 True   \n",
       "863              0                            NaN                 True   \n",
       "864              0                            NaN                 True   \n",
       "869              0                            NaN                 True   \n",
       "874              0                            NaN                 True   \n",
       "880              0                            NaN                 True   \n",
       "884              1                            NaN                 True   \n",
       "973              1                            NaN                 True   \n",
       "\n",
       "                               id.1 sales_org customer_code  \\\n",
       "2    auth0|5b28aeaf0cbf6f1e2bec50eb      VN50        119310   \n",
       "5    auth0|5b4ee604fc239962a3710960      VN50        148289   \n",
       "6    auth0|5bfe5359598e1c11a8a15f30      VN50        148289   \n",
       "7    auth0|611a5421390ec4006983d3ee      VN50        119320   \n",
       "9    auth0|611ba581bf348b006bb548c9      VN50        404485   \n",
       "10   auth0|611ba5872420250069c6fe54      VN50        404551   \n",
       "11   auth0|611cf52cbde6b80068060292      VN50        120652   \n",
       "38   auth0|5e5393af3ef7000e8ce81e6e      VN50        119306   \n",
       "41   auth0|611a542a3ae8e50069658bd7      VN50        142138   \n",
       "57   auth0|614088c61780e5006abb62e2      VN50        119401   \n",
       "68   auth0|6143351440e735007113ab55      VN50        404129   \n",
       "69   auth0|615ac373b8e7cc006addbc58      VN50        119381   \n",
       "80   auth0|615bd889be378400718c2c70      VN50        146761   \n",
       "97   auth0|6141d60e01c641006a527084      VN50        130798   \n",
       "140  auth0|61641efe2caee800716de3c5      VN50        119293   \n",
       "143  auth0|61641f07150257007028e784      VN50        124252   \n",
       "160  auth0|618bde498d4f40006980cd2b      VN50        144809   \n",
       "237  auth0|61963d14aa6a67007212f93f      VN50        418495   \n",
       "257  auth0|610a7f42edeb770072e10f80      VN50        119729   \n",
       "574  auth0|6164069b560d9b00686fc8da      VN50        119729   \n",
       "824  auth0|60f80e333cd751006900f001      VN50        120677   \n",
       "825  auth0|60f8e5dc838de9006a987e49      VN50        120677   \n",
       "828  auth0|61111f58621f9600684f5cbe      VN50        119514   \n",
       "841  auth0|611cf526401a000076c62e54      VN50        134426   \n",
       "860  auth0|6141d60027ab250069a79ae8      VN50        129893   \n",
       "863  auth0|6143350f52787f0069713ac6      VN50        139782   \n",
       "864  auth0|61545150b8e7cc006aa62c30      VN50        136174   \n",
       "869  auth0|615d56e79deb4e006965a675      VN50        133189   \n",
       "874  auth0|615edf1b25167900699fe2a5      VN50        119458   \n",
       "880  auth0|615edfb604e61a0071093f58      VN50        139376   \n",
       "884  auth0|616d383af4c52c006878a207      VN50        119298   \n",
       "973  auth0|61a75b4f359877007131c40e      VN50        119370   \n",
       "\n",
       "                                         customer_name  \n",
       "2                         CTY TNHH MAY XNK DUC THANH 2  \n",
       "5       CÔNG TY TNHH SẢN XUẤT UPGAIN (VIỆT NAM) 0% VAT  \n",
       "6       CÔNG TY TNHH SẢN XUẤT UPGAIN (VIỆT NAM) 0% VAT  \n",
       "7                          CONG TY TNHH MAY TIEN THUAN  \n",
       "9                       DOANH NGHIỆP TƯ NHÂN THẮNG LỢI  \n",
       "10           SON KIM MANUFACTURING TRADING CORPORATION  \n",
       "11                           CONG TY TNHH UN-AVAILABLE  \n",
       "38                         CONG TY TNHH MAY MAC TOPTEX  \n",
       "41              CÔNG TY TNHH MTV VAST APPAREL VIỆT NAM  \n",
       "57                      CTY CP DET MAY DTTM THANH CONG  \n",
       "68                           CÔNG TY TNHH COLLTEX (VN)  \n",
       "69                      CTY LIEN DOANH AN THANH (TNHH)  \n",
       "80                                        D01 CO., LTD  \n",
       "97                               CONG TY TNHH E-TOP VN  \n",
       "140                    CTY TNHH DET DONG MINH VIET NAM  \n",
       "143                 CONG TY TNHH DET MAY ECLAT VIETNAM  \n",
       "160                                        DNC CO.,LTD  \n",
       "237                                       HnC CO., LTD  \n",
       "257                            CÔNG TY CỔ PHẦN AN HƯNG  \n",
       "574                            CÔNG TY CỔ PHẦN AN HƯNG  \n",
       "824              CÔNG TY TNHH THƯƠNG MẠI PHONG PHÚ GIA  \n",
       "825              CÔNG TY TNHH THƯƠNG MẠI PHONG PHÚ GIA  \n",
       "828                                 CTY TNHH PHU TUONG  \n",
       "841                      CONG TY TNHH DESIPER VIET NAM  \n",
       "860       ASMARA INTERNATIONAL LTD(VIETNAM REP.OFFICE)  \n",
       "863                              CÔNG TY TNHH J&H VINA  \n",
       "864                         CÔNG TY TNHH MAY PHÚ TƯỜNG  \n",
       "869                          CÔNG TY TNHH LTP VIỆT NAM  \n",
       "874                              CONG TY TNHH TUAN DAT  \n",
       "880  CN TCTY CP DỆT MAY HOÀ THỌ - CÔNG TY MAY HOÀ T...  \n",
       "884                   CTY CO PHAN MAY BINH MINH (VN50)  \n",
       "973                          CONG TY TNHH HIKOSEN CARA  \n",
       "\n",
       "[32 rows x 38 columns]"
      ]
     },
     "execution_count": 226,
     "metadata": {},
     "output_type": "execute_result"
    }
   ],
   "source": [
    "users[users.logins_count >10]"
   ]
  },
  {
   "cell_type": "code",
   "execution_count": 231,
   "id": "a933fe65-db0b-43c9-a0f1-6cf519c5ea45",
   "metadata": {},
   "outputs": [
    {
     "data": {
      "text/html": [
       "<div>\n",
       "<style scoped>\n",
       "    .dataframe tbody tr th:only-of-type {\n",
       "        vertical-align: middle;\n",
       "    }\n",
       "\n",
       "    .dataframe tbody tr th {\n",
       "        vertical-align: top;\n",
       "    }\n",
       "\n",
       "    .dataframe thead th {\n",
       "        text-align: right;\n",
       "    }\n",
       "</style>\n",
       "<table border=\"1\" class=\"dataframe\">\n",
       "  <thead>\n",
       "    <tr style=\"text-align: right;\">\n",
       "      <th></th>\n",
       "      <th>id</th>\n",
       "      <th>active</th>\n",
       "      <th>notification_cc_emails</th>\n",
       "      <th>created_by</th>\n",
       "      <th>created_at</th>\n",
       "      <th>updated_by</th>\n",
       "      <th>updated_at</th>\n",
       "      <th>first_name</th>\n",
       "      <th>last_name</th>\n",
       "      <th>email</th>\n",
       "      <th>...</th>\n",
       "      <th>logins_count</th>\n",
       "      <th>user_type</th>\n",
       "      <th>role</th>\n",
       "      <th>reminder_count</th>\n",
       "      <th>last_reminder_sent</th>\n",
       "      <th>enable_welcome_email</th>\n",
       "      <th>id.1</th>\n",
       "      <th>sales_org</th>\n",
       "      <th>customer_code</th>\n",
       "      <th>customer_name</th>\n",
       "    </tr>\n",
       "  </thead>\n",
       "  <tbody>\n",
       "    <tr>\n",
       "      <th>28</th>\n",
       "      <td>auth0|5b28a85a08de1a4228a84101</td>\n",
       "      <td>True</td>\n",
       "      <td>[\"lieu.le@coats.com\", \"thanhbinh@donagamex.com...</td>\n",
       "      <td>migrated</td>\n",
       "      <td>2018-06-19 12:21:29.745 +0530</td>\n",
       "      <td>auth0-user-sync-process</td>\n",
       "      <td>2021-10-15 14:18:11.304 +0530</td>\n",
       "      <td>Hai</td>\n",
       "      <td>Tech4: 01273933158</td>\n",
       "      <td>tech4@donagamex.com.vn</td>\n",
       "      <td>...</td>\n",
       "      <td>0</td>\n",
       "      <td>EX</td>\n",
       "      <td>USR</td>\n",
       "      <td>4</td>\n",
       "      <td>2021-11-01 05:30:14.385 +0530</td>\n",
       "      <td>True</td>\n",
       "      <td>auth0|5b28a85a08de1a4228a84101</td>\n",
       "      <td>VN50</td>\n",
       "      <td>119274</td>\n",
       "      <td>CTY CO PHAN TONG CTY MAY DONG NAI</td>\n",
       "    </tr>\n",
       "    <tr>\n",
       "      <th>38</th>\n",
       "      <td>auth0|5e5393af3ef7000e8ce81e6e</td>\n",
       "      <td>True</td>\n",
       "      <td>[\"tuyen.nguyen@coats.com\"]</td>\n",
       "      <td>migrated</td>\n",
       "      <td>2020-02-24 14:43:19.856 +0530</td>\n",
       "      <td>auth0-user-sync-process</td>\n",
       "      <td>2021-12-27 10:30:07.504 +0530</td>\n",
       "      <td>Hai</td>\n",
       "      <td>Nguyen</td>\n",
       "      <td>hai.nguyen@klf-group.com</td>\n",
       "      <td>...</td>\n",
       "      <td>106</td>\n",
       "      <td>EX</td>\n",
       "      <td>USR</td>\n",
       "      <td>0</td>\n",
       "      <td>NaN</td>\n",
       "      <td>True</td>\n",
       "      <td>auth0|5e5393af3ef7000e8ce81e6e</td>\n",
       "      <td>VN50</td>\n",
       "      <td>119306</td>\n",
       "      <td>CONG TY TNHH MAY MAC TOPTEX</td>\n",
       "    </tr>\n",
       "  </tbody>\n",
       "</table>\n",
       "<p>2 rows × 38 columns</p>\n",
       "</div>"
      ],
      "text/plain": [
       "                                id  active  \\\n",
       "28  auth0|5b28a85a08de1a4228a84101    True   \n",
       "38  auth0|5e5393af3ef7000e8ce81e6e    True   \n",
       "\n",
       "                               notification_cc_emails created_by  \\\n",
       "28  [\"lieu.le@coats.com\", \"thanhbinh@donagamex.com...   migrated   \n",
       "38                         [\"tuyen.nguyen@coats.com\"]   migrated   \n",
       "\n",
       "                       created_at               updated_by  \\\n",
       "28  2018-06-19 12:21:29.745 +0530  auth0-user-sync-process   \n",
       "38  2020-02-24 14:43:19.856 +0530  auth0-user-sync-process   \n",
       "\n",
       "                       updated_at first_name           last_name  \\\n",
       "28  2021-10-15 14:18:11.304 +0530        Hai  Tech4: 01273933158   \n",
       "38  2021-12-27 10:30:07.504 +0530        Hai              Nguyen   \n",
       "\n",
       "                       email  ... logins_count  user_type role reminder_count  \\\n",
       "28    tech4@donagamex.com.vn  ...            0         EX  USR              4   \n",
       "38  hai.nguyen@klf-group.com  ...          106         EX  USR              0   \n",
       "\n",
       "               last_reminder_sent enable_welcome_email  \\\n",
       "28  2021-11-01 05:30:14.385 +0530                 True   \n",
       "38                            NaN                 True   \n",
       "\n",
       "                              id.1 sales_org customer_code  \\\n",
       "28  auth0|5b28a85a08de1a4228a84101      VN50        119274   \n",
       "38  auth0|5e5393af3ef7000e8ce81e6e      VN50        119306   \n",
       "\n",
       "                        customer_name  \n",
       "28  CTY CO PHAN TONG CTY MAY DONG NAI  \n",
       "38        CONG TY TNHH MAY MAC TOPTEX  \n",
       "\n",
       "[2 rows x 38 columns]"
      ]
     },
     "execution_count": 231,
     "metadata": {},
     "output_type": "execute_result"
    }
   ],
   "source": [
    "users.query(\"first_name == 'Hai'\")"
   ]
  },
  {
   "cell_type": "code",
   "execution_count": null,
   "id": "45261208-a04a-4123-ac0b-ee06eb07180d",
   "metadata": {},
   "outputs": [],
   "source": []
  }
 ],
 "metadata": {
  "kernelspec": {
   "display_name": "Python 3 (ipykernel)",
   "language": "python",
   "name": "python3"
  },
  "language_info": {
   "codemirror_mode": {
    "name": "ipython",
    "version": 3
   },
   "file_extension": ".py",
   "mimetype": "text/x-python",
   "name": "python",
   "nbconvert_exporter": "python",
   "pygments_lexer": "ipython3",
   "version": "3.9.7"
  }
 },
 "nbformat": 4,
 "nbformat_minor": 5
}
