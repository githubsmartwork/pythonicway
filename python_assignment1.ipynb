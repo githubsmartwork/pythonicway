{
 "cells": [
  {
   "cell_type": "markdown",
   "id": "4f1d7e23",
   "metadata": {},
   "source": [
    "<b>Sum of Digits</b>"
   ]
  },
  {
   "cell_type": "code",
   "execution_count": 1,
   "id": "d76397a4",
   "metadata": {
    "scrolled": true
   },
   "outputs": [
    {
     "name": "stdin",
     "output_type": "stream",
     "text": [
      "Please enter the number 123\n"
     ]
    },
    {
     "name": "stdout",
     "output_type": "stream",
     "text": [
      "6\n"
     ]
    }
   ],
   "source": [
    "\n",
    "number = int(input(\"Please enter the number\")) # getting the number and typecasting it\n",
    "total =0\n",
    "while(number>0):\n",
    "    total+=number%10\n",
    "    number=number//10\n",
    "print(total)"
   ]
  },
  {
   "cell_type": "code",
   "execution_count": 28,
   "id": "bb52e701",
   "metadata": {},
   "outputs": [
    {
     "name": "stdout",
     "output_type": "stream",
     "text": [
      "6.35 ns ± 0.113 ns per loop (mean ± std. dev. of 7 runs, 100000000 loops each)\n"
     ]
    }
   ],
   "source": [
    "%timeit 5\n"
   ]
  },
  {
   "cell_type": "code",
   "execution_count": 29,
   "id": "f2c4dac6",
   "metadata": {},
   "outputs": [
    {
     "name": "stdout",
     "output_type": "stream",
     "text": [
      "CPU times: user 2 µs, sys: 1e+03 ns, total: 3 µs\n",
      "Wall time: 11.9 µs\n"
     ]
    },
    {
     "data": {
      "text/plain": [
       "3"
      ]
     },
     "execution_count": 29,
     "metadata": {},
     "output_type": "execute_result"
    }
   ],
   "source": [
    "%time 3"
   ]
  },
  {
   "cell_type": "markdown",
   "id": "f95edac1",
   "metadata": {},
   "source": [
    "<b>ArmStrong number</b>"
   ]
  },
  {
   "cell_type": "code",
   "execution_count": 60,
   "id": "797677b3",
   "metadata": {},
   "outputs": [
    {
     "name": "stdout",
     "output_type": "stream",
     "text": [
      "Please enter the number23\n",
      "5\n"
     ]
    }
   ],
   "source": [
    "number = input(\"Please enter the number\") # getting the number and typecasting itdiriter\n",
    "lst = list(number)\n",
    "sum=0\n",
    "for i in lst:\n",
    "    k=int(i)\n",
    "    sum=k+sum\n",
    "print(sum)"
   ]
  },
  {
   "cell_type": "markdown",
   "id": "9605dce6",
   "metadata": {},
   "source": [
    "number = input(\"Please enter the number\") \n",
    "lst = list(number)\n",
    "length = len(lst)\n",
    "sum=0\n",
    "for i in lst:\n",
    "    k=int(i)\n",
    "    sum+=k**length\n",
    "print(sum)\n",
    "\n",
    "if(sum==int(number)):\n",
    "    print(\"this number is armstrong\")\n",
    "else:\n",
    "    print(\"this is not armstrong number\")"
   ]
  },
  {
   "cell_type": "markdown",
   "id": "d8e66c39",
   "metadata": {},
   "source": [
    "<b  style='color:green !important;'>Palindrome<b/>"
   ]
  },
  {
   "cell_type": "code",
   "execution_count": 110,
   "id": "0d8c684c",
   "metadata": {},
   "outputs": [
    {
     "name": "stdout",
     "output_type": "stream",
     "text": [
      "Please enter the string:fvf\n",
      "This is Palindrome\n",
      "fvf\n"
     ]
    }
   ],
   "source": [
    "str_input = input(\"Please enter the string:\")\n",
    "reverse_str =str_input[::-1]\n",
    "if(str_input==reverse_str):\n",
    "    print(\"This is Palindrome\", end='\\n')\n",
    "    print(str_input)\n",
    "else:\n",
    "    print('this is not a Palindrome')"
   ]
  },
  {
   "cell_type": "code",
   "execution_count": 6,
   "id": "62c194f1",
   "metadata": {},
   "outputs": [
    {
     "name": "stdout",
     "output_type": "stream",
     "text": [
      "the item 1 occured in 3 time\n",
      "the item 4 occured in 2 time\n",
      "the item 7 occured in 1 time\n",
      "the item 9 occured in 2 time\n",
      "the item 2 occured in 1 time\n",
      "the final dics are {1: 3, 4: 2, 7: 1, 9: 2, 2: 1}\n"
     ]
    }
   ],
   "source": [
    "duplicateArray=[1,4,7,9,2,4,9,1,1]\n",
    "dics={}\n",
    "for i in duplicateArray:\n",
    "    if i in dics.keys():\n",
    "        dics[i]= dics[i]+1\n",
    "    else:\n",
    "        dics[i]=1\n",
    "        \n",
    "for j in dics.keys():\n",
    "    strj = str(j)\n",
    "    strValue = str(dics[j])\n",
    "    print(\"the item \"+ strj +\" occured in \"+ strValue + \" time\")  \n",
    "print(\"the final dics are\", dics)\n"
   ]
  },
  {
   "cell_type": "markdown",
   "id": "84513ca9-272b-4358-a0b7-060bf1ef7e4c",
   "metadata": {},
   "source": [
    "<b>Prime Factors</b>"
   ]
  },
  {
   "cell_type": "code",
   "execution_count": 43,
   "id": "7c1ec223-8e5b-43ac-bc24-1374680ba0ba",
   "metadata": {},
   "outputs": [
    {
     "name": "stdin",
     "output_type": "stream",
     "text": [
      "Enter the number for calculating the prime factors :\n",
      " 100000\n"
     ]
    },
    {
     "name": "stdout",
     "output_type": "stream",
     "text": [
      "2\n",
      "5\n"
     ]
    }
   ],
   "source": [
    "n = int(input(\"Enter the number for calculating the prime factors :\\n\"))\n",
    "%time\n",
    "for i in range(2,n + 1):\n",
    "    if n % i == 0:\n",
    "        count = 1\n",
    "        for j in range(2,(i//2 + 1)):\n",
    "            if(i % j == 0):\n",
    "                count = 0\n",
    "                break\n",
    "        if(count == 1):\n",
    "            print(i)"
   ]
  },
  {
   "cell_type": "code",
   "execution_count": 44,
   "id": "67be0181-31b1-4da1-9ffe-e78a8ba7c7f6",
   "metadata": {},
   "outputs": [
    {
     "name": "stdin",
     "output_type": "stream",
     "text": [
      "Enter any Number for calculating the prime factors:  100000\n"
     ]
    },
    {
     "name": "stdout",
     "output_type": "stream",
     "text": [
      "CPU times: user 2 µs, sys: 1e+03 ns, total: 3 µs\n",
      "Wall time: 5.72 µs\n",
      "2\n",
      "5\n"
     ]
    }
   ],
   "source": [
    "n = int(input(\"Enter any Number for calculating the prime factors: \"))\n",
    "i = 1\n",
    "%time \n",
    "while(i <= n):\n",
    "    c = 0\n",
    "    if(n % i == 0):\n",
    "        j = 1\n",
    "        while(j <= i):\n",
    "            if(i % j == 0):\n",
    "                c = c + 1\n",
    "            j = j + 1\n",
    "             \n",
    "        if (c == 2):\n",
    "            print(i)\n",
    "    i = i + 1"
   ]
  },
  {
   "cell_type": "code",
   "execution_count": 40,
   "id": "7f548b78-b666-41f3-a2fc-902d1a1ffb80",
   "metadata": {},
   "outputs": [
    {
     "name": "stdin",
     "output_type": "stream",
     "text": [
      "Enter any Number for calculating the prime factors:  100000\n"
     ]
    },
    {
     "name": "stdout",
     "output_type": "stream",
     "text": [
      "CPU times: user 2 µs, sys: 0 ns, total: 2 µs\n",
      "Wall time: 5.96 µs\n",
      "2\n",
      "2\n",
      "2\n",
      "2\n",
      "2\n",
      "5\n",
      "5\n",
      "5\n",
      "5\n",
      "5\n"
     ]
    }
   ],
   "source": [
    "import math\n",
    "n = int(input(\"Enter any Number for calculating the prime factors: \"))\n",
    "%time\n",
    "while n % 2 == 0:\n",
    "        print (2),\n",
    "        n = n / 2\n",
    "    \n",
    "   #n became odd\n",
    "for i in range(3,int(math.sqrt(n))+1,2):\n",
    "      while (n % i == 0):\n",
    "            print (i)\n",
    "            n = n / i\n",
    "if n > 2:\n",
    "        print (n)"
   ]
  },
  {
   "cell_type": "code",
   "execution_count": 42,
   "id": "598d9a71-2673-4cab-b5b7-b2b6a65575cb",
   "metadata": {},
   "outputs": [
    {
     "name": "stdin",
     "output_type": "stream",
     "text": [
      "Enter any Number for calculating the prime factors:  100000\n"
     ]
    },
    {
     "name": "stdout",
     "output_type": "stream",
     "text": [
      "CPU times: user 2 µs, sys: 1e+03 ns, total: 3 µs\n",
      "Wall time: 4.77 µs\n",
      "2\n",
      "2\n",
      "2\n",
      "2\n",
      "2\n",
      "5\n",
      "5\n",
      "5\n",
      "5\n",
      "5\n"
     ]
    }
   ],
   "source": [
    "\n",
    "n = int(input(\"Enter any Number for calculating the prime factors: \"))\n",
    "c=2\n",
    "%time\n",
    "while(n>1):\n",
    "    if n%c==0:\n",
    "        print(c, end=\"\\n\")\n",
    "        n=n/c\n",
    "    else:\n",
    "        c+=1"
   ]
  },
  {
   "cell_type": "markdown",
   "id": "92ff363e",
   "metadata": {},
   "source": [
    "<b>BInomial</b>"
   ]
  },
  {
   "cell_type": "code",
   "execution_count": 19,
   "id": "16e1280d",
   "metadata": {},
   "outputs": [
    {
     "name": "stdout",
     "output_type": "stream",
     "text": [
      "Enter any number for binomial coefficient nb:  4\n",
      "Enter any number for binomial coefficient nc:  2\n",
      "nbfact 24\n",
      "ncfact 2\n",
      "nb_minus_nc 2\n",
      "nb_minus_ncfact 2\n",
      "6.0\n"
     ]
    }
   ],
   "source": [
    "nb = int(input(\"Enter any number for binomial coefficient nb:  \"))\n",
    "nc = int(input(\"Enter any number for binomial coefficient nc:  \"))\n",
    "\n",
    "\n",
    "\n",
    "if(nb<1):\n",
    "    println(\"please enter positive number\")\n",
    "if(nc<1):\n",
    "    println(\"please enter positive number\")\n",
    "nb_minus_nc=nb-nc\n",
    "if(nb_minus_nc<1):\n",
    "    println(\"nc can't be greater than nb\")\n",
    "#factorial of nb\n",
    "nbfact=1\n",
    "ncfact=1\n",
    "nb_minus_ncfact=1\n",
    "for i in range(1, nb+1):\n",
    "    nbfact *=i \n",
    "#factorial of nc\n",
    "for i in range(1, nc+1):\n",
    "    ncfact *=i\n",
    "#factorial of nb_minus_nc\n",
    "for i in range(1, nb_minus_nc+1):\n",
    "    nb_minus_ncfact *=i\n",
    "  \n",
    "print(\"nbfact\", nbfact)  \n",
    "print(\"ncfact\", ncfact)  \n",
    "print(\"nb_minus_nc\", nb_minus_nc) \n",
    "print(\"nb_minus_ncfact\", nb_minus_ncfact)  \n",
    "binomial_coefficient =nbfact/(ncfact*nb_minus_ncfact)\n",
    "print(binomial_coefficient)"
   ]
  },
  {
   "cell_type": "markdown",
   "id": "36caf5d5-b069-4f67-a34a-dc720ac28b2c",
   "metadata": {},
   "source": [
    "<b> linear search techniques.</b>"
   ]
  },
  {
   "cell_type": "code",
   "execution_count": 2,
   "id": "0ef02fc7-56f0-4892-803d-3fadd71c7c2a",
   "metadata": {},
   "outputs": [
    {
     "name": "stdin",
     "output_type": "stream",
     "text": [
      "Search number 16\n"
     ]
    },
    {
     "name": "stdout",
     "output_type": "stream",
     "text": [
      "found it 16\n"
     ]
    }
   ],
   "source": [
    "arr = [7,8,99,44,7,16,23]\n",
    "find_number=int(input(\"Search number\"))\n",
    "for i in range(0, len(arr)):\n",
    "    if(find_number==arr[i]):\n",
    "        print(\"found it\", arr[i])"
   ]
  },
  {
   "cell_type": "markdown",
   "id": "6cff9699-7837-4e7d-9dfd-60e6390675e1",
   "metadata": {},
   "source": [
    "<b>Binary search </b>\n"
   ]
  },
  {
   "cell_type": "code",
   "execution_count": 43,
   "id": "21c54abe-7377-46aa-a764-4d014ed99bc8",
   "metadata": {},
   "outputs": [
    {
     "name": "stdout",
     "output_type": "stream",
     "text": [
      "len_of_array--> [7, 8, 99, 44, 7, 16, 23]\n",
      "[7, 7, 8, 16, 23, 44, 99]\n"
     ]
    }
   ],
   "source": [
    "arr = [7,8,99,44,7,16,23]\n",
    "\n",
    "index = 0\n",
    "sorted_arr = []\n",
    "temp = 0\n",
    "len_of_array= len(arr)\n",
    "mid_value = int(len_of_array/2)\n",
    "print(\"len_of_array-->\",arr)\n",
    "for i in range(0, len_of_array):\n",
    "    for j in range(i+1, len_of_array):\n",
    "        if(arr[i]> arr[j]):\n",
    "            temp =arr[i]\n",
    "            arr[i]=arr[j]\n",
    "            arr[j]=temp  \n",
    "print(arr)\n",
    "\n",
    "    "
   ]
  },
  {
   "cell_type": "code",
   "execution_count": 46,
   "id": "7d610ea8-444d-44b2-925f-ddf271c1a2db",
   "metadata": {},
   "outputs": [
    {
     "name": "stdout",
     "output_type": "stream",
     "text": [
      "something 4\n",
      "midvalue 44\n",
      "something 5\n",
      "midvalue 99\n",
      "got you baby in the index!! 6\n"
     ]
    }
   ],
   "source": [
    "findme = 99\n",
    "while (index<=mid_value):\n",
    "    arr[mid_value]\n",
    "    if(arr[mid_value]< findme):\n",
    "        mid_value+=1\n",
    "    else:\n",
    "        mid_value-=1\n",
    "    print(\"midvalue\",  arr[mid_value])\n",
    "    if(arr[mid_value]==findme):\n",
    "        print(\"got you baby in the index!!\", mid_value  )\n",
    "        break;"
   ]
  },
  {
   "cell_type": "code",
   "execution_count": null,
   "id": "f3375dd5-8bef-4b54-a6fd-62b10ff1e655",
   "metadata": {},
   "outputs": [],
   "source": []
  }
 ],
 "metadata": {
  "kernelspec": {
   "display_name": "Python 3 (ipykernel)",
   "language": "python",
   "name": "python3"
  },
  "language_info": {
   "codemirror_mode": {
    "name": "ipython",
    "version": 3
   },
   "file_extension": ".py",
   "mimetype": "text/x-python",
   "name": "python",
   "nbconvert_exporter": "python",
   "pygments_lexer": "ipython3",
   "version": "3.9.7"
  }
 },
 "nbformat": 4,
 "nbformat_minor": 5
}
